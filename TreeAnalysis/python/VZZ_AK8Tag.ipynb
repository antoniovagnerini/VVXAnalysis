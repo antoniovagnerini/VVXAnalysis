{
 "cells": [
  {
   "cell_type": "markdown",
   "metadata": {},
   "source": [
    "# AK8 Tagger"
   ]
  },
  {
   "cell_type": "code",
   "execution_count": 1,
   "metadata": {},
   "outputs": [],
   "source": [
    "import sys, os\n",
    "import numpy as np\n",
    "import pandas as pd\n",
    "import matplotlib.pyplot as plt\n",
    "import math\n",
    "from time import time"
   ]
  },
  {
   "cell_type": "code",
   "execution_count": 2,
   "metadata": {},
   "outputs": [
    {
     "name": "stdout",
     "output_type": "stream",
     "text": [
      "Found!\n",
      "\tVZZ_1618.csv\n",
      "\tVZZ_1618_TagAK4.csv\n",
      "\tVZZ_1618_TagAK8.csv\n",
      "\tZZTo4l_2016.csv\n",
      "\tZZTo4l_2016_TagAK4.csv\n",
      "\tZZTo4l_2016_TagAK8.csv\n",
      "\tZZTo4l_2017.csv\n",
      "\tZZTo4l_2017_TagAK8.csv\n"
     ]
    }
   ],
   "source": [
    "new_dir = os.path.join(\"C:/\", \"Shared\", \"Tesi magistrale\", \"databases\")\n",
    "stable_dir = os.path.join(\"C:/\", \"Shared\", \"Tesi magistrale\", \"databases\", \"stable\")\n",
    "dir_path = stable_dir\n",
    "if(os.path.exists(dir_path) and os.path.isdir(dir_path)):\n",
    "    print(\"Found!\")\n",
    "    files_names = [f for f in os.listdir(dir_path) if os.path.isfile(os.path.join(dir_path, f))]\n",
    "    for f in files_names:\n",
    "        print('\\t%s' % f)\n",
    "else:\n",
    "    print(\"!!! NOT FOUND !!!\")"
   ]
  },
  {
   "cell_type": "code",
   "execution_count": 3,
   "metadata": {},
   "outputs": [],
   "source": [
    "'''\n",
    "def count_lines(f):\n",
    "    lines = 0\n",
    "    buf_size = 1024 * 1024\n",
    "    read_f = f.read # loop optimization\n",
    "    buf = read_f(buf_size)\n",
    "    while buf:\n",
    "        lines += buf.count('\\n')\n",
    "        buf = read_f(buf_size)\n",
    "    f.seek(0)\n",
    "    return lines\n",
    "'''\n",
    "def get_raw_data(file_path, nlines=None):\n",
    "    try:\n",
    "        in_file = open(file_path, 'r')  #TODO: Add an header row in the csv builder (DBGenerator.cc)\n",
    "        raw_data = pd.read_csv(in_file, delimiter=',', header=None, nrows=nlines) #raw_data is a pandas.DataFrame\n",
    "    except IOError as e:\n",
    "        print(e)\n",
    "        return None\n",
    "    else:\n",
    "        in_file.close()\n",
    "        return raw_data"
   ]
  },
  {
   "cell_type": "code",
   "execution_count": 4,
   "metadata": {},
   "outputs": [],
   "source": [
    "def drawPoints(source, **kwargs):\n",
    "    errTrain = [source[a]['train'] for a in source.keys()]\n",
    "    errTest = [source[a]['test'] for a in source.keys()]\n",
    "    print(source.keys())\n",
    "    plt.title(kwargs.get(\"title\", \"Default Tittle\"))\n",
    "    plt.scatter(source.keys(), errTest, label='test')\n",
    "    plt.scatter(source.keys(), errTrain, label='train')\n",
    "    if(kwargs.get(\"logx\", True)):\n",
    "        plt.xlabel('log10(%s)' % kwargs.get(\"xlabel\", \"x axis\"))\n",
    "        plt.gca().set_xscale('log')\n",
    "    else:\n",
    "        plt.xlabel(kwargs.get(\"xlabel\", \"x axis\"))\n",
    "    plt.ylabel(kwargs.get(\"ylabel\", \"Error\"))\n",
    "    plt.legend()\n",
    "    pass"
   ]
  },
  {
   "cell_type": "code",
   "execution_count": 5,
   "metadata": {},
   "outputs": [],
   "source": [
    "def grid_plot(data, nx, ny, **kwargs): #n_ = range of _\n",
    "    scores = data.reshape(ny.shape[0], nx.shape[0])\n",
    "    title = kwargs.get(\"title\", \"Title\")\n",
    "    \n",
    "    if(kwargs.get(\"log\", True)):\n",
    "        scores = np.vectorize(lambda x: -math.log10(1-x))(scores)\n",
    "        title += \" (-log(1-x))\"\n",
    "        #title.join(\" (-log(1-x))\")\n",
    "\n",
    "    plt.figure(figsize=(8, 8))\n",
    "\n",
    "    plt.imshow(scores, interpolation='nearest', origin='lower')#, cmap=plt.cm.hot)\n",
    "    plt.title(title)\n",
    "    if(kwargs.get(\"logx\", True)):\n",
    "        plt.xlabel('log10(%s)' % kwargs.get(\"lx\", \"lx\"))\n",
    "        plt.xticks(np.arange(len(nx)), map(lambda x : round(math.log10(x),2), nx))\n",
    "    else:\n",
    "        plt.xlabel(kwargs.get(\"lx\", \"lx\"))\n",
    "        plt.xticks(np.arange(len(nx)), map(lambda x : round(x,3), nx))\n",
    "    \n",
    "    if(kwargs.get(\"logy\", True)):\n",
    "        plt.ylabel('log10(%s)' % kwargs.get(\"ly\", \"ly\"))\n",
    "        plt.yticks(np.arange(len(ny)), map(lambda x : round(math.log10(x),2), ny))\n",
    "    else:\n",
    "        plt.ylabel(kwargs.get(\"ly\", \"ly\"))\n",
    "        plt.yticks(np.arange(len(ny)), map(lambda x : round(x,3), ny))\n",
    "    plt.colorbar()"
   ]
  },
  {
   "cell_type": "code",
   "execution_count": 6,
   "metadata": {},
   "outputs": [],
   "source": [
    "def overf_log(grid):\n",
    "    if(grid.cv_results_.get('mean_train_score') is None):\n",
    "        print(\"Error: mean_train_score not found\")\n",
    "        return\n",
    "    if(grid.cv_results_.get('mean_test_score') is None):\n",
    "        print(\"Error: mean_test_score not found\")\n",
    "        return\n",
    "    overfit = (grid.cv_results_['mean_train_score'] - grid.cv_results_['mean_test_score'])\n",
    "    index = np.argmax(grid.cv_results_['mean_test_score'])\n",
    "    print(\"Score at best params: %.2f\" % (grid.cv_results_['mean_test_score'][index]))\n",
    "    print(\"Overfit at best params = %.2g\" % (overfit[index]))"
   ]
  },
  {
   "cell_type": "markdown",
   "metadata": {},
   "source": [
    "# Start"
   ]
  },
  {
   "cell_type": "code",
   "execution_count": 7,
   "metadata": {},
   "outputs": [
    {
     "name": "stdout",
     "output_type": "stream",
     "text": [
      "n_samples: 1046   Features: 15\n",
      "--------------------------------------\n",
      "\"1\" = 877 \n",
      "\"0\" = 169\n"
     ]
    }
   ],
   "source": [
    "from sklearn.model_selection import train_test_split\n",
    "\n",
    "data_path = os.path.join(dir_path, \"VZZ_1618_TagAK8.csv\")\n",
    "AK8data_raw = get_raw_data(data_path)\n",
    "feat8_raw   = AK8data_raw.drop(0, axis=1).drop(1, axis=1)\n",
    "target8_VZZ = AK8data_raw[0]\n",
    "weight8_VZZ = AK8data_raw[1]\n",
    "\n",
    "AK8data = AK8data_raw[(AK8data_raw[1]>0)]\n",
    "features8 = AK8data.drop(0, axis=1).drop(1, axis=1)\n",
    "target8   = AK8data[0]\n",
    "weight8   = AK8data[1]\n",
    "\n",
    "print(\"n_samples:\", AK8data.shape[0], \"  Features:\", features8.shape[1])\n",
    "print(\"--------------------------------------\")\n",
    "nz = np.count_nonzero(AK8data[0].to_numpy())\n",
    "z = len(target8) - nz\n",
    "print('\"1\" =', nz, '\\n\"0\" =', z)"
   ]
  },
  {
   "cell_type": "raw",
   "metadata": {},
   "source": [
    "Too few bad AK8 in the data sample. Compensating with the first of the background"
   ]
  },
  {
   "cell_type": "code",
   "execution_count": 8,
   "metadata": {},
   "outputs": [
    {
     "name": "stdout",
     "output_type": "stream",
     "text": [
      "new samples:  699\n",
      "n_samples: 1745   Features: 15\n",
      "Train size: 1396   Validation size: 349\n",
      "--------------------------------------\n",
      "\"1\" = 877 \n",
      "\"0\" = 868\n"
     ]
    }
   ],
   "source": [
    "from sklearn.utils import shuffle\n",
    "\n",
    "#2016 (broken) data\n",
    "#AK8data_raw_plus = get_raw_data(os.path.join(dir_path, \"ZZTo4l_2016_TagAK8.csv\"), nz - z)\n",
    "#2017 (working, I hope) data\n",
    "AK8data_raw_plus = get_raw_data(os.path.join(dir_path, \"ZZTo4l_2017_TagAK8.csv\"), nz - z)\n",
    "\n",
    "AK8data_plus = AK8data_raw_plus[(AK8data_raw_plus[1]>0)]\n",
    "\n",
    "print(\"new samples: \", AK8data_plus.shape[0])\n",
    "\n",
    "assert (AK8data.shape[1] == AK8data_plus.shape[1]), \"ERROR: Datasets have different shapes!\"\n",
    "AK8total = pd.concat([AK8data, AK8data_plus], ignore_index=True)\n",
    "shuffle(AK8total).reset_index(inplace=True, drop=True)\n",
    "\n",
    "features8 = AK8total.drop(0, axis=1).drop(1, axis=1)\n",
    "target8   = AK8total[0]\n",
    "weight8   = AK8total[1]\n",
    "print(\"n_samples:\", AK8total.shape[0], \"  Features:\", features8.shape[1])\n",
    "\n",
    "X8_train, X8_valid, y8_train, y8_valid = train_test_split(features8, target8.to_numpy(), test_size=0.2, random_state=42)\n",
    "print(\"Train size:\", y8_train.shape[0], \"  Validation size:\", y8_valid.shape[0])\n",
    "\n",
    "print(\"--------------------------------------\")\n",
    "nz_tot = np.count_nonzero(target8.to_numpy())\n",
    "z_tot = len(target8) - nz_tot\n",
    "print('\"1\" =', nz_tot, '\\n\"0\" =', z_tot)"
   ]
  },
  {
   "cell_type": "code",
   "execution_count": 77,
   "metadata": {},
   "outputs": [
    {
     "name": "stdout",
     "output_type": "stream",
     "text": [
      "Elapsed Time = 33.73 s\n"
     ]
    }
   ],
   "source": [
    "from sklearn.ensemble import AdaBoostClassifier\n",
    "\n",
    "ErrAda8 = {}\n",
    "AdaBoost8 = AdaBoostClassifier(random_state=42)\n",
    "\n",
    "start = time()\n",
    "for ntrees in np.logspace(1.5, 3.5, 10).astype(int):#[1, 3, 5, 10, 15, 20, 25]:\n",
    "    AdaBoost8.set_params(**{\"n_estimators\": ntrees, \"learning_rate\": 0.04})\n",
    "    AdaBoost8.fit(X8_train, y8_train)\n",
    "    \n",
    "    train_score = AdaBoost8.score(X8_train, y8_train)\n",
    "    test_score  = AdaBoost8.score(X8_valid, y8_valid)\n",
    "    #print(\"Score in = %.3f - Score out = %.3f - Elapsed Time = %.2f s\" % (train_score, test_score, time()-start))\n",
    "\n",
    "    ErrAda8[ntrees] = {'train': 1-train_score, 'test': 1-test_score}\n",
    "print(\"Elapsed Time = %.2f s\" % (time()-start))"
   ]
  },
  {
   "cell_type": "code",
   "execution_count": 78,
   "metadata": {},
   "outputs": [
    {
     "name": "stdout",
     "output_type": "stream",
     "text": [
      "dict_keys([31, 52, 87, 146, 244, 408, 681, 1136, 1895, 3162])\n"
     ]
    },
    {
     "data": {
      "image/png": "[encoded data removed]",
      "text/plain": [
       "<Figure size 432x288 with 1 Axes>"
      ]
     },
     "metadata": {
      "needs_background": "light"
     },
     "output_type": "display_data"
    }
   ],
   "source": [
    "drawPoints(ErrAda8, title=\"Ada BDT (AK8): depth=1\", xaxis=\"Trees' depth\", logx=True)"
   ]
  },
  {
   "cell_type": "code",
   "execution_count": 82,
   "metadata": {},
   "outputs": [
    {
     "name": "stdout",
     "output_type": "stream",
     "text": [
      "nTrees = [  316   630  1258  2511  5011 10000] \t\t( [2.5 2.8 3.1 3.4 3.7 4] )\n",
      "lRate = [0.0158 0.0229 0.0331 0.0479 0.0692 0.1] \t( [-1.8 -1.64 -1.48 -1.32 -1.16 -1] )\n",
      "Fitting 5 folds for each of 36 candidates, totalling 180 fits\n"
     ]
    },
    {
     "name": "stderr",
     "output_type": "stream",
     "text": [
      "[Parallel(n_jobs=-1)]: Using backend LokyBackend with 4 concurrent workers.\n",
      "[Parallel(n_jobs=-1)]: Done   5 tasks      | elapsed:    6.9s\n",
      "[Parallel(n_jobs=-1)]: Done  10 tasks      | elapsed:   13.7s\n",
      "[Parallel(n_jobs=-1)]: Done  17 tasks      | elapsed:   39.5s\n",
      "[Parallel(n_jobs=-1)]: Done  24 tasks      | elapsed:  1.6min\n",
      "[Parallel(n_jobs=-1)]: Done  33 tasks      | elapsed:  2.8min\n",
      "[Parallel(n_jobs=-1)]: Done  42 tasks      | elapsed:  3.2min\n",
      "[Parallel(n_jobs=-1)]: Done  53 tasks      | elapsed:  4.4min\n",
      "[Parallel(n_jobs=-1)]: Done  64 tasks      | elapsed:  5.8min\n",
      "[Parallel(n_jobs=-1)]: Done  77 tasks      | elapsed:  6.5min\n",
      "[Parallel(n_jobs=-1)]: Done  90 tasks      | elapsed:  8.7min\n",
      "[Parallel(n_jobs=-1)]: Done 105 tasks      | elapsed:  9.5min\n",
      "[Parallel(n_jobs=-1)]: Done 120 tasks      | elapsed: 11.7min\n",
      "[Parallel(n_jobs=-1)]: Done 137 tasks      | elapsed: 12.6min\n",
      "[Parallel(n_jobs=-1)]: Done 154 tasks      | elapsed: 14.7min\n",
      "[Parallel(n_jobs=-1)]: Done 173 tasks      | elapsed: 16.2min\n",
      "[Parallel(n_jobs=-1)]: Done 180 out of 180 | elapsed: 18.0min finished\n"
     ]
    },
    {
     "name": "stdout",
     "output_type": "stream",
     "text": [
      "Elapsed time: 1093 s (18'13\")\n",
      "best parameter choice: nTrees = 2511.00 (10^3.40)\n",
      "best parameter choice: lRate  = 0.07 (10^-1.16)\n"
     ]
    }
   ],
   "source": [
    "from sklearn.ensemble import AdaBoostClassifier\n",
    "from sklearn.model_selection import GridSearchCV\n",
    "\n",
    "AdaBoost8 = AdaBoostClassifier(random_state=42)\n",
    "nTrees_Ada8 = np.logspace(2.5, 4., 6).astype(int) #(1, 2.4, 8)\n",
    "lRate_Ada8  = np.logspace(-1.8, -1., 6)         #(-1., -0.3, 8)\n",
    "\n",
    "with np.printoptions(formatter={'float': lambda x: '%.3g' %(x)}):\n",
    "    print(\"nTrees =\", nTrees_Ada8, \"\\t\\t(\", np.vectorize(lambda x: math.log10(x))(nTrees_Ada8), \")\")\n",
    "    print(\"lRate =\" , lRate_Ada8 , \"\\t(\", np.vectorize(lambda x: math.log10(x))(lRate_Ada8) , \")\")\n",
    "\n",
    "grid_Ada8 = GridSearchCV(AdaBoost8, param_grid={'n_estimators': nTrees_Ada8, 'learning_rate': lRate_Ada8}, \n",
    "                            verbose=10, scoring='roc_auc', cv=5, n_jobs=-1, return_train_score=True)\n",
    "\n",
    "start = time()\n",
    "grid_Ada8.fit(features8, target8)\n",
    "sec = time() - start\n",
    "print(\"Elapsed time: %.0f s (%d\\'%.d\\\")\" % (sec, (int)(sec/60), int(sec)%60))\n",
    "nTrees_best_Ada8 = grid_Ada8.best_params_['n_estimators']\n",
    "lRate_best_Ada8  = grid_Ada8.best_params_['learning_rate']\n",
    "print (\"best parameter choice: nTrees = %.2f (10^%.2f)\" % (nTrees_best_Ada8, math.log10(nTrees_best_Ada8)))\n",
    "print (\"best parameter choice: lRate  = %.2f (10^%.2f)\" % (lRate_best_Ada8, math.log10(lRate_best_Ada8)))"
   ]
  },
  {
   "cell_type": "code",
   "execution_count": 19,
   "metadata": {},
   "outputs": [
    {
     "ename": "NameError",
     "evalue": "name 'grid_Ada8' is not defined",
     "output_type": "error",
     "traceback": [
      "\u001b[1;31m---------------------------------------------------------------------------\u001b[0m",
      "\u001b[1;31mNameError\u001b[0m                                 Traceback (most recent call last)",
      "\u001b[1;32m<ipython-input-19-c85ff157d0bd>\u001b[0m in \u001b[0;36m<module>\u001b[1;34m\u001b[0m\n\u001b[1;32m----> 1\u001b[1;33m grid_plot(grid_Ada8.cv_results_['mean_test_score'], nTrees_Ada8, lRate_Ada8, \n\u001b[0m\u001b[0;32m      2\u001b[0m           \u001b[0mlx\u001b[0m\u001b[1;33m=\u001b[0m\u001b[1;34m\"n trees\"\u001b[0m\u001b[1;33m,\u001b[0m \u001b[0mly\u001b[0m\u001b[1;33m=\u001b[0m\u001b[1;34m\"learning rate\"\u001b[0m\u001b[1;33m,\u001b[0m \u001b[0mtitle\u001b[0m\u001b[1;33m=\u001b[0m\u001b[1;34m\"\"\u001b[0m\u001b[1;33m,\u001b[0m\u001b[1;31m#\"AdaBoost8 - Score\",\u001b[0m\u001b[1;33m\u001b[0m\u001b[1;33m\u001b[0m\u001b[0m\n\u001b[0;32m      3\u001b[0m           log=False, logx=False, logy=False)\n\u001b[0;32m      4\u001b[0m \u001b[0mprint\u001b[0m\u001b[1;33m(\u001b[0m\u001b[1;34m\"Best score = %.4f %%\"\u001b[0m \u001b[1;33m%\u001b[0m \u001b[1;33m(\u001b[0m\u001b[0mgrid_Ada8\u001b[0m\u001b[1;33m.\u001b[0m\u001b[0mbest_score_\u001b[0m\u001b[1;33m*\u001b[0m\u001b[1;36m100\u001b[0m\u001b[1;33m)\u001b[0m\u001b[1;33m)\u001b[0m\u001b[1;33m\u001b[0m\u001b[1;33m\u001b[0m\u001b[0m\n\u001b[0;32m      5\u001b[0m \u001b[1;32mif\u001b[0m\u001b[1;33m(\u001b[0m\u001b[0mnTrees_best_Ada8\u001b[0m\u001b[1;33m==\u001b[0m\u001b[0mnTrees_Ada8\u001b[0m\u001b[1;33m[\u001b[0m\u001b[1;36m0\u001b[0m\u001b[1;33m]\u001b[0m\u001b[1;33m)\u001b[0m\u001b[1;33m:\u001b[0m\u001b[1;33m\u001b[0m\u001b[1;33m\u001b[0m\u001b[0m\n",
      "\u001b[1;31mNameError\u001b[0m: name 'grid_Ada8' is not defined"
     ]
    }
   ],
   "source": [
    "grid_plot(grid_Ada8.cv_results_['mean_test_score'], nTrees_Ada8, lRate_Ada8, \n",
    "          lx=\"n trees\", ly=\"learning rate\", title=\"\",#\"AdaBoost8 - Score\", \n",
    "          log=False, logx=False, logy=False)\n",
    "print(\"Best score = %.4f %%\" % (grid_Ada8.best_score_*100))\n",
    "if(nTrees_best_Ada8==nTrees_Ada8[0]):\n",
    "    print(\"Limit on nTrees: optimal may be lower\")\n",
    "elif(nTrees_best_Ada8==nTrees_Ada8[-1]):\n",
    "    print(\"Limit on nTrees: optimal may be higher\")\n",
    "if(lRate_best_Ada8==lRate_Ada8[0]):\n",
    "    print(\"Limit on lRate:  optimal may be lower\")\n",
    "elif(lRate_best_Ada8==lRate_Ada8[-1]):\n",
    "    print(\"Limit on lRate:  optimal may be higher\")"
   ]
  },
  {
   "cell_type": "code",
   "execution_count": 98,
   "metadata": {},
   "outputs": [
    {
     "name": "stdout",
     "output_type": "stream",
     "text": [
      "Score at best params: 0.77\n",
      "Overfit at best params = 0.15\n"
     ]
    },
    {
     "data": {
      "image/png": "[encoded data removed]",
      "text/plain": [
       "<Figure size 576x576 with 2 Axes>"
      ]
     },
     "metadata": {
      "needs_background": "light"
     },
     "output_type": "display_data"
    }
   ],
   "source": [
    "overfit8 = (grid_Ada8.cv_results_['mean_train_score']-grid_Ada8.cv_results_['mean_test_score'])\n",
    "overf_log(grid_Ada8)\n",
    "grid_plot(overfit8, nTrees_Ada8, lRate_Ada8, title=\"\",#\"AdaBoost8 - Overfit\", \n",
    "          lx=\"n trees\", ly=\"lRate\", logx=False, logy=False, log=False)"
   ]
  },
  {
   "cell_type": "code",
   "execution_count": 9,
   "metadata": {},
   "outputs": [
    {
     "name": "stdout",
     "output_type": "stream",
     "text": [
      "Elapsed time: 10.8 s\n"
     ]
    }
   ],
   "source": [
    "from sklearn.ensemble import AdaBoostClassifier\n",
    "#Ada8 = AdaBoostClassifier(n_estimators=nTrees_best_Ada8, learning_rate=lRate_best_Ada8, random_state=42)\n",
    "Ada8 = AdaBoostClassifier(n_estimators=2511, learning_rate=0.0692, random_state=42)\n",
    "start = time()\n",
    "Ada8.fit(X8_train, y8_train)\n",
    "print(\"Elapsed time: %.3g s\" % (time() - start))"
   ]
  },
  {
   "cell_type": "code",
   "execution_count": 11,
   "metadata": {},
   "outputs": [
    {
     "data": {
      "text/plain": [
       "<matplotlib.legend.Legend at 0x18bc03491c8>"
      ]
     },
     "execution_count": 11,
     "metadata": {},
     "output_type": "execute_result"
    },
    {
     "data": {
      "image/png": "[encoded data removed]",
      "text/plain": [
       "<Figure size 432x288 with 1 Axes>"
      ]
     },
     "metadata": {
      "needs_background": "light"
     },
     "output_type": "display_data"
    }
   ],
   "source": [
    "from sklearn.metrics import roc_curve, auc\n",
    "\n",
    "fpr, tpr, thresholds = roc_curve(y8_valid, Ada8.predict_proba(X8_valid)[:, 1])\n",
    "auc_test = auc(fpr, tpr)\n",
    "\n",
    "eff = 0.90\n",
    "wp_fpr = fpr[np.searchsorted(tpr, eff, side='right')]\n",
    "\n",
    "plt.plot(fpr, tpr, color='darkorange',\n",
    "         lw=2, label='ROC (area = %.1f %%)' % (100*auc_test), linestyle='-')\n",
    "plt.plot([0, 1], [0, 1], color='navy', lw=2, linestyle='--')\n",
    "plt.plot((wp_fpr), (eff), 'o', color='darkred', label='wp at %.0f %% eff' % (eff*100))\n",
    "#plt.plot((0.214019, 0.356657),(0.478722, 0.624044), \"go\", label=\"cut on minDM\")\n",
    "plt.plot((0.09163),(0.41418) , \"b^\", label=\"minDM < 13 GeV/c^2\")\n",
    "plt.plot((0.356657),(0.49758), \"g^\", label=\"minDM < 30 GeV/c^2\")\n",
    "#plt.plot((0.15225), (0.52233), \"b^\", label=\"minDM < 40 GeV/c^2\")\n",
    "plt.plot((-0.01, wp_fpr),(eff, eff), \"r--\")\n",
    "plt.plot((wp_fpr, wp_fpr),(0, eff), \"r--\")\n",
    "\n",
    "#plt.plot(baks,sigs)\n",
    "\n",
    "plt.xlim([-0.01, 1.0])\n",
    "plt.ylim([0.0, 1.01])\n",
    "plt.xlabel('False Positives [%]')\n",
    "plt.ylabel('Efficiency')\n",
    "#plt.title('ROC AK8 in VZZ (Validation)')\n",
    "plt.legend(loc=\"lower right\")"
   ]
  },
  {
   "cell_type": "code",
   "execution_count": 91,
   "metadata": {},
   "outputs": [
    {
     "name": "stdout",
     "output_type": "stream",
     "text": [
      "< 13 GeV/c^2  (10.9, 41.418, 54.54545454545454)\n",
      "< 30 GeV/c^2  (35.6657, 49.758, 73.29545454545455)\n"
     ]
    }
   ],
   "source": [
    "i_classic = np.searchsorted(fpr, 0.109, side='right')\n",
    "print(\"< 13 GeV/c^2 \", (0.109*100, 0.41418*100, tpr[i_classic]*100))\n",
    "i_classic = np.searchsorted(fpr, 0.356657, side='right')\n",
    "print(\"< 30 GeV/c^2 \", (0.356657*100, 0.49758*100, tpr[i_classic]*100))"
   ]
  },
  {
   "cell_type": "code",
   "execution_count": 16,
   "metadata": {},
   "outputs": [
    {
     "name": "stdout",
     "output_type": "stream",
     "text": [
      "----- Working point at efficiency = 95 % -----\n",
      "Index: 124/136\n",
      "False positives: 88.44% - threshold: 0.496\n",
      "----- ----- ----- ----- ----- ----- ----- -----\n",
      "\n",
      "----- Working point at efficiency = 90 % -----\n",
      "Index: 106/136\n",
      "False positives: 69.36 % - threshold: 0.498\n",
      "----- ----- ----- ----- ----- ----- ----- -----\n"
     ]
    }
   ],
   "source": [
    "# Working point at 95% efficiency\n",
    "i_wp = np.searchsorted(tpr, 0.95, side='right')\n",
    "print(\"----- Working point at efficiency = 95 % -----\")\n",
    "print(\"Index: %i/%i\" % (i_wp, len(thresholds)))\n",
    "print('False positives: %.2f%% - threshold: %.3g' % (fpr[i_wp]*100, thresholds[i_wp]))\n",
    "print(\"----- ----- ----- ----- ----- ----- ----- -----\\n\")\n",
    "\n",
    "i_wp = np.searchsorted(tpr, 0.90, side='right')\n",
    "print(\"----- Working point at efficiency = 90 % -----\")\n",
    "print(\"Index: %i/%i\" % (i_wp, len(thresholds)))\n",
    "print('False positives: %.2f %% - threshold: %.3g' % (fpr[i_wp]*100, thresholds[i_wp]))\n",
    "print(\"----- ----- ----- ----- ----- ----- ----- -----\")"
   ]
  },
  {
   "cell_type": "code",
   "execution_count": 13,
   "metadata": {},
   "outputs": [
    {
     "name": "stdout",
     "output_type": "stream",
     "text": [
      "Most important: 11\n"
     ]
    },
    {
     "data": {
      "image/png": "[encoded data removed]",
      "text/plain": [
       "<Figure size 432x288 with 1 Axes>"
      ]
     },
     "metadata": {
      "needs_background": "light"
     },
     "output_type": "display_data"
    }
   ],
   "source": [
    "print(\"Most important:\", np.argmax(Ada8.feature_importances_))\n",
    "#plt.plot(np.sort(Ada8.feature_importances_)[::-1], \"ro\", label='sorted')\n",
    "plt.plot(Ada8.feature_importances_, \"ro\", label='unsorted')\n",
    "plt.title(\"Feature importance AK8 classifier\")\n",
    "plt.legend()\n",
    "pass"
   ]
  },
  {
   "cell_type": "raw",
   "metadata": {},
   "source": [
    "plt.hist([features8[target8==1][4], features8[target8==0][5]], \n",
    "         label=['Signal events', 'Background events'], bins=50,density=True) #range=[0,200],\n",
    "plt.xlabel(\"Feature #3 output\")\n",
    "plt.ylabel(\"# Jets AK8\")\n",
    "plt.legend()"
   ]
  },
  {
   "cell_type": "code",
   "execution_count": 104,
   "metadata": {},
   "outputs": [
    {
     "name": "stdout",
     "output_type": "stream",
     "text": [
      "Training time = 11.3 s\n",
      "File size: 1.6 MB  (at C:/Shared\\VZZ_AK8_tree.pkl)\n"
     ]
    }
   ],
   "source": [
    "from pickle import Pickler\n",
    "\n",
    "start=time()\n",
    "Ada8.fit(features8, target8)\n",
    "filepath = os.path.join(\"C:/\", \"Shared\", \"VZZ_AK8_tree.pkl\")\n",
    "print(\"Training time = %.3g s\" % (time() - start))\n",
    "with open(filepath, mode='w+b') as file: # \"C:/Shared/VZZ_AK4_tree.pkl\"\n",
    "    pickler = Pickler(file)#, protocol=3)\n",
    "    pickler.dump(Ada8)\n",
    "    del pickler\n",
    "\n",
    "size=os.stat(filepath).st_size\n",
    "j = math.floor(math.log(size,2)/10)\n",
    "print(\"File size: %.3g %sB  (at %s)\" % (size/1024**j, ['','K','M','G'][j], filepath))\n",
    "del size, j"
   ]
  },
  {
   "cell_type": "code",
   "execution_count": 105,
   "metadata": {},
   "outputs": [],
   "source": [
    "from pickle import Unpickler\n",
    "\n",
    "obj_path = os.path.join(\"C:/\", \"Shared\", \"VZZ_AK8_tree.pkl\")\n",
    "with open(obj_path, mode='rb') as file:\n",
    "    unpickler = Unpickler(file)\n",
    "    loaded_Ada8 = unpickler.load()\n",
    "    del unpickler"
   ]
  },
  {
   "cell_type": "code",
   "execution_count": 9,
   "metadata": {},
   "outputs": [
    {
     "data": {
      "text/plain": [
       "AdaBoostClassifier(learning_rate=0.0692, n_estimators=2511, random_state=42)"
      ]
     },
     "execution_count": 9,
     "metadata": {},
     "output_type": "execute_result"
    }
   ],
   "source": [
    "from sklearn.ensemble import AdaBoostClassifier\n",
    "#Ada8 = AdaBoostClassifier(n_estimators=nTrees_best_Ada8, learning_rate=lRate_best_Ada8, random_state=42)\n",
    "Ada8 = AdaBoostClassifier(n_estimators=2511, learning_rate=0.0692, random_state=42)\n",
    "Ada8.fit(features8, target8)"
   ]
  },
  {
   "cell_type": "code",
   "execution_count": 10,
   "metadata": {},
   "outputs": [],
   "source": [
    "#loaded_pred = loaded_Ada8.predict_proba(features8)[:,1]\n",
    "live_pred = Ada8.predict_proba(features8)[:,1]"
   ]
  },
  {
   "cell_type": "code",
   "execution_count": 11,
   "metadata": {},
   "outputs": [
    {
     "data": {
      "image/png": "[encoded data removed]",
      "text/plain": [
       "<Figure size 432x288 with 1 Axes>"
      ]
     },
     "metadata": {
      "needs_background": "light"
     },
     "output_type": "display_data"
    }
   ],
   "source": [
    "plt.hist([loaded_pred[target8==1], loaded_pred[target8==0]], label=['Signal AK8', 'Background AK8'], bins=50)\n",
    "plt.xlabel(\"Classifier output\")\n",
    "plt.ylabel(\"# Jets AK8\")\n",
    "plt.legend()\n",
    "pass"
   ]
  },
  {
   "cell_type": "code",
   "execution_count": 12,
   "metadata": {},
   "outputs": [
    {
     "data": {
      "image/png": "[encoded data removed]",
      "text/plain": [
       "<Figure size 432x288 with 1 Axes>"
      ]
     },
     "metadata": {
      "needs_background": "light"
     },
     "output_type": "display_data"
    }
   ],
   "source": [
    "from scipy.special import erf\n",
    "my_erf = lambda x,mean=loaded_pred.mean(),std=loaded_pred.std(): (erf((x-mean)/std) + 1)/2\n",
    "spread_pred = np.vectorize(my_erf)(loaded_pred)\n",
    "\n",
    "plt.hist([spread_pred[target8==1], spread_pred[target8==0]], \n",
    "         label=['Signal AK8', 'Background AK8'], bins=50)\n",
    "plt.xlabel(\"Classifier output\")\n",
    "plt.ylabel(\"# Jets AK8\")\n",
    "plt.legend()\n",
    "pass"
   ]
  },
  {
   "cell_type": "markdown",
   "metadata": {},
   "source": [
    "### SVC (RBF kernel)"
   ]
  },
  {
   "cell_type": "code",
   "execution_count": null,
   "metadata": {},
   "outputs": [],
   "source": [
    "from sklearn.svm import SVC\n",
    "from sklearn.model_selection import GridSearchCV\n",
    "\n",
    "rbf = SVC(kernel='rbf', probability=False, cache_size=1000)\n",
    "Crange_rbf = np.logspace(-0.5, 0.5, 16)\n",
    "\n",
    "start = time()\n",
    "# Old scoring = 'average_precision'\n",
    "grid_rbf = GridSearchCV(rbf, param_grid={'C': Crange_rbf}, scoring='roc_auc', cv=5, n_jobs=-1, return_train_score=True)\n",
    "grid_rbf.fit(features8, target8)  # Cross-validate with all data\n",
    "print(\"Elapsed time: %.0f s\" % (time() - start))\n",
    "C_best_rbf = grid_rbf.best_params_['C']\n",
    "print (\"best parameter choice: C = %.2f (10^%.1f)\" % (C_best_rbf, math.log10(C_best_rbf)))\n",
    "\n",
    "#result: C_best_rbf = 10^-0.9 = 0.14"
   ]
  },
  {
   "cell_type": "code",
   "execution_count": null,
   "metadata": {},
   "outputs": [],
   "source": [
    "plt.title(\"RBF SVC - Best C = %.2e\" % (grid_rbf.best_params_['C']))\n",
    "plt.semilogx(Crange_rbf, grid_rbf.cv_results_['mean_test_score']);\n",
    "plt.grid()\n",
    "print(\"Best score = %.2f\" % (grid_rbf.best_score_))"
   ]
  },
  {
   "cell_type": "code",
   "execution_count": null,
   "metadata": {},
   "outputs": [],
   "source": [
    "plt.title(\"RBF SVC - Overfit\")\n",
    "overfit = grid_rbf.cv_results_['mean_train_score']-grid_rbf.cv_results_['mean_test_score']\n",
    "plt.semilogx(Crange_rbf, overfit);\n",
    "plt.grid()\n",
    "print(\"Mean overfit = %.2f\" % (overfit.mean()))"
   ]
  },
  {
   "cell_type": "code",
   "execution_count": null,
   "metadata": {},
   "outputs": [],
   "source": [
    "rbf2 = SVC(kernel='rbf', probability=False, cache_size=1000)\n",
    "Crange_rbf2 = np.logspace(-0.5, 1.0, 10)\n",
    "Gammas_rbf2 = np.logspace(-2.5, -1.5, 10)\n",
    "\n",
    "start = time()\n",
    "grid_rbf2 = GridSearchCV(rbf2, param_grid={'C': Crange_rbf2, 'gamma': Gammas_rbf2}, \n",
    "                            scoring='roc_auc', cv=5, n_jobs=-1, return_train_score=True)\n",
    "grid_rbf2.fit(features8, target8)\n",
    "print(\"Elapsed time: %.0f s\" % (time() - start))\n",
    "C_best_rbf2 = grid_rbf2.best_params_['C']\n",
    "gamma_best_rbf2 = grid_rbf2.best_params_['gamma']\n",
    "print (\"best parameter choice: C = %.2f (10^%.2f)\" % (C_best_rbf2, math.log10(C_best_rbf2)))\n",
    "print (\"best parameter choice: gamma = %.2f (10^%.2f)\" % (gamma_best_rbf2, math.log10(gamma_best_rbf2)))"
   ]
  },
  {
   "cell_type": "code",
   "execution_count": null,
   "metadata": {},
   "outputs": [],
   "source": [
    "grid_plot(grid_rbf2.cv_results_['mean_test_score'], Gammas_rbf2, Crange_rbf2, \n",
    "          lx=\"Gamma\", ly=\"C\", title=\"RBF SVC - Score\")\n",
    "print(\"Best score = %.2f\" % (grid_rbf2.best_score_))"
   ]
  },
  {
   "cell_type": "code",
   "execution_count": null,
   "metadata": {},
   "outputs": [],
   "source": [
    "overfit = (grid_rbf2.cv_results_['mean_train_score']-grid_rbf2.cv_results_['mean_test_score']).reshape(Crange_rbf2.shape[0], Gammas_rbf2.shape[0])\n",
    "print(\"Mean overfit = %.2f\" % (overfit.mean()))\n",
    "grid_plot(overfit, Crange_rbf2, Gammas_rbf2, title=\"RBF SVC - Overfit\", lx=\"Gamma\", ly=\"C\")"
   ]
  },
  {
   "cell_type": "code",
   "execution_count": null,
   "metadata": {},
   "outputs": [],
   "source": [
    "# Convert to script\n",
    "# !jupyter nbconvert --to script config_template.ipynb"
   ]
  },
  {
   "cell_type": "markdown",
   "metadata": {},
   "source": [
    "# Stuff"
   ]
  },
  {
   "cell_type": "code",
   "execution_count": 90,
   "metadata": {},
   "outputs": [
    {
     "name": "stdout",
     "output_type": "stream",
     "text": [
      "[0.0786439  0.38383943 0.41417711 0.42220132 0.44516248 0.47754832\n",
      " 0.49758002 0.52232789 0.60938775 0.70319335 0.88642653 0.99349678]\n",
      "[0.02211025 0.06915874 0.09162929 0.10077752 0.10903761 0.11251586\n",
      " 0.1201982  0.15224805 0.25632862 0.56212328 0.84975299 1.00000078]\n",
      "(10.9), (44.5)\n"
     ]
    },
    {
     "data": {
      "image/png": "[encoded data removed]",
      "text/plain": [
       "<Figure size 432x288 with 1 Axes>"
      ]
     },
     "metadata": {
      "needs_background": "light"
     },
     "output_type": "display_data"
    }
   ],
   "source": [
    "'''\n",
    "features8\n",
    "target8\n",
    "weight8\n",
    "'''\n",
    "#plt.hist(features8[3][target8==1], weights=weight8[target8==1], bins=50, range=(0.,120.)) #minDM\n",
    "#plt.hist(features8[3][target8==0], weights=weight8[target8==0], bins=50, range=(0.,120.))\n",
    "\n",
    "sigs = np.zeros(12)\n",
    "baks = np.zeros(12)\n",
    "w_tot = weight8.sum()\n",
    "cuts = [1,10,13,15,20,25,30,40,60,80,100,200]#[60,50,40,30,25,20,15]\n",
    "for c, cut in enumerate(cuts):#cut = 30\n",
    "    sig = 0.\n",
    "    bkg = 0.\n",
    "    for i, dM in enumerate(features8[3][target8==1]):\n",
    "        if(dM < cut):\n",
    "            sig+=weight8[i]\n",
    "    for i, dM in enumerate(features8[3][target8==0]):\n",
    "        if(dM < cut):\n",
    "            bkg+=weight8[i]\n",
    "    sigs[c] = sig/4.3515\n",
    "    baks[c] = bkg/4.3251\n",
    "#print(\"s = %.4f   b = %.4f   w_tot = %.4f\" % (sig, bkg, w_tot))\n",
    "pass\n",
    "#print(\"(%.5f), (%.5f)\" % (sig/4.3515, bkg/4.3251))\n",
    "print(sigs)\n",
    "print(baks)\n",
    "\n",
    "plt.plot(baks,sigs)\n",
    "integ = 4\n",
    "plt.plot(baks[integ],sigs[integ],\"ro\",label=\"<%d\" % cuts[integ])\n",
    "plt.legend()\n",
    "print(\"(%.1f), (%.1f)\" % (baks[integ]*100,sigs[integ]*100))"
   ]
  }
 ],
 "metadata": {
  "kernelspec": {
   "display_name": "Python 3",
   "language": "python",
   "name": "python3"
  },
  "language_info": {
   "codemirror_mode": {
    "name": "ipython",
    "version": 3
   },
   "file_extension": ".py",
   "mimetype": "text/x-python",
   "name": "python",
   "nbconvert_exporter": "python",
   "pygments_lexer": "ipython3",
   "version": "3.7.7"
  }
 },
 "nbformat": 4,
 "nbformat_minor": 4
}
