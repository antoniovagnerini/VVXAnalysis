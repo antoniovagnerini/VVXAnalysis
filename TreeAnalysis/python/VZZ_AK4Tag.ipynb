{
 "cells": [
  {
   "cell_type": "markdown",
   "metadata": {},
   "source": [
    "# AK4 Tagger"
   ]
  },
  {
   "cell_type": "code",
   "execution_count": 1,
   "metadata": {},
   "outputs": [],
   "source": [
    "import sys, os\n",
    "import numpy as np\n",
    "import pandas as pd\n",
    "import matplotlib.pyplot as plt\n",
    "import math\n",
    "from time import time"
   ]
  },
  {
   "cell_type": "code",
   "execution_count": 2,
   "metadata": {},
   "outputs": [
    {
     "name": "stdout",
     "output_type": "stream",
     "text": [
      "Found!\n"
     ]
    }
   ],
   "source": [
    "dir_path = os.path.join(\"C:/\", \"Shared\", \"Tesi magistrale\", \"databases\", \"stable\")\n",
    "if(os.path.exists(dir_path) and os.path.isdir(dir_path)):\n",
    "    print(\"Found!\")\n",
    "else:\n",
    "    print(\"!!! NOT FOUND !!!\")\n",
    "    #files_names = [f for f in os.listdir(dir_path) if os.path.isfile(os.path.join(dir_path, f))]\n",
    "    #for f in files_names:\n",
    "        #print('\\t%s' % f)"
   ]
  },
  {
   "cell_type": "code",
   "execution_count": 3,
   "metadata": {},
   "outputs": [],
   "source": [
    "def get_raw_data(file_path):\n",
    "    try:\n",
    "        in_file = open(file_path, 'r')  #TODO: Add an header row in the csv builder (DBGenerator.cc)\n",
    "        raw_data = pd.read_csv(in_file, delimiter=',', header=None) #raw_data is a pandas.DataFrame\n",
    "    except IOError as e:\n",
    "        print(e)\n",
    "        return None\n",
    "    else:\n",
    "        in_file.close()\n",
    "        return raw_data"
   ]
  },
  {
   "cell_type": "code",
   "execution_count": 4,
   "metadata": {},
   "outputs": [],
   "source": [
    "def drawPoints(source, **kwargs):\n",
    "    errTrain = [source[a]['train'] for a in source.keys()]\n",
    "    errTest = [source[a]['test'] for a in source.keys()]\n",
    "    print(source.keys())\n",
    "    plt.title(kwargs.get(\"title\", \"Default Tittle\"))\n",
    "    plt.scatter(source.keys(), errTest, label='test')\n",
    "    plt.scatter(source.keys(), errTrain, label='train')\n",
    "    if(kwargs.get(\"logx\", True)):\n",
    "        plt.xlabel('log10(%s)' % kwargs.get(\"xlabel\", \"x axis\"))\n",
    "        plt.gca().set_xscale('log')\n",
    "    else:\n",
    "        plt.xlabel(kwargs.get(\"xlabel\", \"x axis\"))\n",
    "    plt.ylabel(kwargs.get(\"ylabel\", \"Error\"))\n",
    "    plt.legend()\n",
    "    pass"
   ]
  },
  {
   "cell_type": "code",
   "execution_count": 5,
   "metadata": {},
   "outputs": [],
   "source": [
    "def grid_plot(data, nx, ny, **kwargs): #n_ = range of _\n",
    "    scores = data.reshape(ny.shape[0], nx.shape[0])\n",
    "    title = kwargs.get(\"title\", \"Title\")\n",
    "    \n",
    "    if(kwargs.get(\"log\", True)):\n",
    "        scores = np.vectorize(lambda x: -math.log10(1-x))(scores)\n",
    "        title += \" (-log(1-x))\"\n",
    "        #title.join(\" (-log(1-x))\")\n",
    "\n",
    "    plt.figure(figsize=(8, 8))\n",
    "\n",
    "    plt.imshow(scores, interpolation='nearest', origin='lower')#, cmap=plt.cm.hot)\n",
    "    plt.title(title)\n",
    "    if(kwargs.get(\"logx\", True)):\n",
    "        plt.xlabel('log10(%s)' % kwargs.get(\"lx\", \"lx\"))\n",
    "        plt.xticks(np.arange(len(nx)), map(lambda x : round(math.log10(x),2), nx))\n",
    "    else:\n",
    "        plt.xlabel(kwargs.get(\"lx\", \"lx\"))\n",
    "        plt.xticks(np.arange(len(nx)), map(lambda x: round(x,2), nx))\n",
    "    \n",
    "    if(kwargs.get(\"logy\", True)):\n",
    "        plt.ylabel('log10(%s)' % kwargs.get(\"ly\", \"ly\"))\n",
    "        plt.yticks(np.arange(len(ny)), map(lambda x : round(math.log10(x),2), ny))\n",
    "    else:\n",
    "        plt.ylabel(kwargs.get(\"ly\", \"ly\"))\n",
    "        plt.yticks(np.arange(len(ny)), map(lambda x: round(x,3), ny))\n",
    "    plt.colorbar()"
   ]
  },
  {
   "cell_type": "code",
   "execution_count": 6,
   "metadata": {},
   "outputs": [],
   "source": [
    "def overf_log(grid):\n",
    "    if(grid.cv_results_.get('mean_train_score') is None):\n",
    "        print(\"Error: mean_train_score not found\")\n",
    "        return\n",
    "    if(grid.cv_results_.get('mean_test_score') is None):\n",
    "        print(\"Error: mean_test_score not found\")\n",
    "        return\n",
    "    overfit = (grid.cv_results_['mean_train_score'] - grid.cv_results_['mean_test_score'])\n",
    "    index = np.argmax(grid.cv_results_['mean_test_score'])\n",
    "    print(\"Score at best params: %.3f\" % (grid.cv_results_['mean_test_score'][index]))\n",
    "    print(\"Overfit at best params = %.2g\" % (overfit[index]))"
   ]
  },
  {
   "cell_type": "markdown",
   "metadata": {},
   "source": [
    "## VZZ"
   ]
  },
  {
   "cell_type": "code",
   "execution_count": 7,
   "metadata": {},
   "outputs": [
    {
     "name": "stdout",
     "output_type": "stream",
     "text": [
      "n_samples: 2896   Features: 19\n",
      "Train size: 2316   Validation size: 580\n",
      "--------------------------------------\n",
      "\"1\" = 1222 \n",
      "\"0\" = 1674\n"
     ]
    }
   ],
   "source": [
    "from sklearn.model_selection import train_test_split\n",
    "\n",
    "AK4_VZZ_raw = get_raw_data(os.path.join(dir_path, \"VZZ_1618_TagAK4.csv\"))\n",
    "feat4_raw   = AK4_VZZ_raw.drop(0, axis=1).drop(1, axis=1)\n",
    "target4_VZZ = AK4_VZZ_raw[0]\n",
    "weight4_VZZ = AK4_VZZ_raw[1]\n",
    "\n",
    "AK4_VZZ = AK4_VZZ_raw[(AK4_VZZ_raw[1]>0)]\n",
    "\n",
    "feat4_VZZ = AK4_VZZ.drop(0, axis=1).drop(1, axis=1)\n",
    "target4_VZZ   = AK4_VZZ[0]\n",
    "weight4_VZZ   = AK4_VZZ[1]\n",
    "\n",
    "X4_VZZ_train, X4_VZZ_valid, y4_VZZ_train, y4_VZZ_valid = train_test_split(feat4_VZZ, target4_VZZ.to_numpy(), test_size=0.2, random_state=42)\n",
    "#TODO shuffle\n",
    "print(\"n_samples:\", AK4_VZZ.shape[0], \"  Features:\", feat4_VZZ.shape[1])\n",
    "print(\"Train size:\", y4_VZZ_train.shape[0], \"  Validation size:\", y4_VZZ_valid.shape[0])\n",
    "\n",
    "print(\"--------------------------------------\")\n",
    "nz = np.count_nonzero(target4_VZZ.to_numpy())\n",
    "print('\"1\" =', nz, '\\n\"0\" =', len(target4_VZZ) - nz)\n",
    "del nz"
   ]
  },
  {
   "cell_type": "code",
   "execution_count": 10,
   "metadata": {},
   "outputs": [
    {
     "name": "stdout",
     "output_type": "stream",
     "text": [
      "Elapsed Time = 176.37 s\n"
     ]
    }
   ],
   "source": [
    "from sklearn.ensemble import AdaBoostClassifier\n",
    "#from sklearn.tree import DecisionTreeClassifier\n",
    "#from sklearn import tree\n",
    "\n",
    "ErrAda = {}\n",
    "AdaBoost = AdaBoostClassifier(random_state=42, learning_rate=0.01)\n",
    "start = time()\n",
    "\n",
    "for ntrees in np.logspace(1.5, 4.0, 12).astype(int): #[1, 3, 5, 10, 25, 30, 35, 40, 45]:\n",
    "    #start = time()\n",
    "    AdaBoost.set_params(**{\"n_estimators\": ntrees})\n",
    "    AdaBoost.fit(X4_VZZ_train, y4_VZZ_train)\n",
    "    \n",
    "    train_score = AdaBoost.score(X4_VZZ_train, y4_VZZ_train)\n",
    "    test_score  = AdaBoost.score(X4_VZZ_valid, y4_VZZ_valid)\n",
    "    #print(\"Score in = %.3f - Score out = %.3f - Elapsed Time = %.2f s\" % (train_score, test_score, time()-start))\n",
    "    ErrAda[ntrees] = {'train': 1-train_score, 'test': 1-test_score}\n",
    "\n",
    "print(\"Elapsed Time = %.2f s\" % (time() - start))"
   ]
  },
  {
   "cell_type": "code",
   "execution_count": 12,
   "metadata": {},
   "outputs": [
    {
     "name": "stdout",
     "output_type": "stream",
     "text": [
      "dict_keys([31, 53, 90, 151, 256, 432, 730, 1232, 2080, 3511, 5925, 10000])\n"
     ]
    },
    {
     "data": {
      "image/png": "[encoded data removed]",
      "text/plain": [
       "<Figure size 432x288 with 1 Axes>"
      ]
     },
     "metadata": {
      "needs_background": "light"
     },
     "output_type": "display_data"
    }
   ],
   "source": [
    "#err vs n_iterations\n",
    "drawPoints(ErrAda, title=\"\", xlabel=\"n trees\", logx=True)"
   ]
  },
  {
   "cell_type": "code",
   "execution_count": 18,
   "metadata": {},
   "outputs": [
    {
     "name": "stdout",
     "output_type": "stream",
     "text": [
      "Elapsed Time = 139.76 s\n"
     ]
    }
   ],
   "source": [
    "ErrAda_l = {}\n",
    "AdaBoost_l = AdaBoostClassifier(random_state=42, n_estimators=1500)\n",
    "start = time()\n",
    "\n",
    "for lrate in np.logspace(0, -3., 12):\n",
    "    #start = time()\n",
    "    AdaBoost_l.set_params(**{\"learning_rate\": lrate})\n",
    "    AdaBoost_l.fit(X4_VZZ_train, y4_VZZ_train)\n",
    "    \n",
    "    train_score = AdaBoost_l.score(X4_VZZ_train, y4_VZZ_train)\n",
    "    test_score  = AdaBoost_l.score(X4_VZZ_valid, y4_VZZ_valid)\n",
    "    #print(\"Score in = %.3f - Score out = %.3f - Elapsed Time = %.2f s\" % (train_score, test_score, time()-start))\n",
    "    ErrAda_l[lrate] = {'train': 1-train_score, 'test': 1-test_score}\n",
    "\n",
    "print(\"Elapsed Time = %.2f s\" % (time() - start))"
   ]
  },
  {
   "cell_type": "code",
   "execution_count": 20,
   "metadata": {},
   "outputs": [
    {
     "name": "stdout",
     "output_type": "stream",
     "text": [
      "dict_keys([1.0, 0.533669923120631, 0.2848035868435802, 0.1519911082952934, 0.08111308307896872, 0.04328761281083059, 0.023101297000831605, 0.012328467394420665, 0.006579332246575682, 0.0035111917342151347, 0.001873817422860385, 0.001])\n"
     ]
    },
    {
     "data": {
      "image/png": "[encoded data removed]",
      "text/plain": [
       "<Figure size 432x288 with 1 Axes>"
      ]
     },
     "metadata": {
      "needs_background": "light"
     },
     "output_type": "display_data"
    }
   ],
   "source": [
    "drawPoints(ErrAda_l, title=\"\", xlabel=\"learning rate\", logx=True)"
   ]
  },
  {
   "cell_type": "code",
   "execution_count": 23,
   "metadata": {},
   "outputs": [
    {
     "name": "stdout",
     "output_type": "stream",
     "text": [
      "nTrees = [1000 1258 1584 1995 2511] \t\t( [3 3.1 3.2 3.3 3.4] )\n",
      "lRate = [0.0316 0.0398 0.0501 0.0631 0.0794] \t( [-1.5 -1.4 -1.3 -1.2 -1.1] )\n",
      "Fitting 5 folds for each of 25 candidates, totalling 125 fits\n"
     ]
    },
    {
     "name": "stderr",
     "output_type": "stream",
     "text": [
      "[Parallel(n_jobs=-1)]: Using backend LokyBackend with 4 concurrent workers.\n",
      "[Parallel(n_jobs=-1)]: Done   5 tasks      | elapsed:   28.1s\n",
      "[Parallel(n_jobs=-1)]: Done  10 tasks      | elapsed:   46.3s\n",
      "[Parallel(n_jobs=-1)]: Done  17 tasks      | elapsed:  1.4min\n",
      "[Parallel(n_jobs=-1)]: Done  24 tasks      | elapsed:  2.1min\n",
      "[Parallel(n_jobs=-1)]: Done  33 tasks      | elapsed:  2.6min\n",
      "[Parallel(n_jobs=-1)]: Done  42 tasks      | elapsed:  3.3min\n",
      "[Parallel(n_jobs=-1)]: Done  53 tasks      | elapsed:  4.4min\n",
      "[Parallel(n_jobs=-1)]: Done  64 tasks      | elapsed:  5.1min\n",
      "[Parallel(n_jobs=-1)]: Done  77 tasks      | elapsed:  6.2min\n",
      "[Parallel(n_jobs=-1)]: Done  90 tasks      | elapsed:  7.0min\n",
      "[Parallel(n_jobs=-1)]: Done 105 tasks      | elapsed:  8.3min\n",
      "[Parallel(n_jobs=-1)]: Done 125 out of 125 | elapsed: 10.2min finished\n"
     ]
    },
    {
     "name": "stdout",
     "output_type": "stream",
     "text": [
      "Elapsed time: 623 s (10'22\")\n",
      "best parameter choice: nTrees = 1584 (10^3.2)\n",
      "best parameter choice: lRate  = 0.0501 (10^-1.3)\n"
     ]
    }
   ],
   "source": [
    "from sklearn.ensemble import AdaBoostClassifier\n",
    "from sklearn.model_selection import GridSearchCV\n",
    "\n",
    "AdaBoost = AdaBoostClassifier(random_state=42)\n",
    "nTrees_Ada = np.logspace(3.0, 3.4, 5).astype(int)  #np.logspace(3.5, 4.0, 6).astype(int)\n",
    "lRate_Ada  = np.logspace(-1.5, -1.1, 5)  #np.logspace(-2.4, -2.0, 5)\n",
    "with np.printoptions(formatter={'float': lambda x: '%.3g' %(x)}):\n",
    "    print(\"nTrees =\", nTrees_Ada, \"\\t\\t(\", np.vectorize(lambda x: math.log10(x))(nTrees_Ada), \")\")\n",
    "    print(\"lRate =\" , lRate_Ada , \"\\t(\", np.vectorize(lambda x: math.log10(x))(lRate_Ada) , \")\")\n",
    "\n",
    "grid_Ada = GridSearchCV(AdaBoost, param_grid={'n_estimators': nTrees_Ada, 'learning_rate': lRate_Ada}, \n",
    "                            verbose=10, scoring='roc_auc', cv=5, n_jobs=-1, return_train_score=True)\n",
    "\n",
    "start = time()\n",
    "grid_Ada.fit(feat4_VZZ, target4_VZZ)#, sample_weight=weight4)\n",
    "sec = time() - start\n",
    "print(\"Elapsed time: %.0f s (%d\\'%.d\\\")\" % (sec, (int)(sec/60), int(sec)%60))\n",
    "nTrees_best_Ada = grid_Ada.best_params_['n_estimators']\n",
    "lRate_best_Ada  = grid_Ada.best_params_['learning_rate']\n",
    "print (\"best parameter choice: nTrees = %d (10^%.2g)\" % (nTrees_best_Ada, math.log10(nTrees_best_Ada)))\n",
    "print (\"best parameter choice: lRate  = %.3g (10^%.2g)\" % (lRate_best_Ada, math.log10(lRate_best_Ada)))"
   ]
  },
  {
   "cell_type": "raw",
   "metadata": {},
   "source": [
    "nTrees_Ada = np.logspace(3.5, 4.0, 6).astype(int)\n",
    "lRate_Ada  = np.logspace(-2.4, -2.0, 5)\n",
    "Elapsed time: 1778 s (29'37\")\n",
    "best parameter choice: nTrees = 7.9e+03 (10^3.9)\n",
    "best parameter choice: lRate  = 0.004 (10^-2.4)\n",
    "Best score = 77.3389 %"
   ]
  },
  {
   "cell_type": "code",
   "execution_count": 30,
   "metadata": {},
   "outputs": [
    {
     "name": "stdout",
     "output_type": "stream",
     "text": [
      "Best score = 82.1109 %\n"
     ]
    },
    {
     "data": {
      "image/png": "[encoded data removed]",
      "text/plain": [
       "<Figure size 576x576 with 2 Axes>"
      ]
     },
     "metadata": {
      "needs_background": "light"
     },
     "output_type": "display_data"
    }
   ],
   "source": [
    "grid_plot(grid_Ada.cv_results_['mean_test_score'], nTrees_Ada, lRate_Ada, \n",
    "          lx=\"n trees\", ly=\"learning rate\", title=\"\",#\"AdaBoost - Score\", \n",
    "          log=False, logx=False, logy=False)\n",
    "print(\"Best score = %.4f %%\" % (grid_Ada.best_score_*100))\n",
    "if(nTrees_best_Ada==nTrees_Ada[0]):\n",
    "    print(\"Limit on nTrees: optimal may be lower\")\n",
    "elif(nTrees_best_Ada==nTrees_Ada[-1]):\n",
    "    print(\"Limit on nTrees: optimal may be higher\")\n",
    "if(lRate_best_Ada==lRate_Ada[0]):\n",
    "    print(\"Limit on lRate:  optimal may be lower\")\n",
    "elif(lRate_best_Ada==lRate_Ada[-1]):\n",
    "    print(\"Limit on lRate:  optimal may be higher\")"
   ]
  },
  {
   "cell_type": "code",
   "execution_count": 32,
   "metadata": {},
   "outputs": [
    {
     "name": "stdout",
     "output_type": "stream",
     "text": [
      "Score at best params: 0.821\n",
      "Overfit at best params = 0.073\n"
     ]
    },
    {
     "data": {
      "image/png": "[encoded data removed]",
      "text/plain": [
       "<Figure size 576x576 with 2 Axes>"
      ]
     },
     "metadata": {
      "needs_background": "light"
     },
     "output_type": "display_data"
    }
   ],
   "source": [
    "overfit = (grid_Ada.cv_results_['mean_train_score']-grid_Ada.cv_results_['mean_test_score'])\n",
    "overf_log(grid_Ada)\n",
    "grid_plot(overfit, nTrees_Ada, lRate_Ada, title=\"AdaBoost - Overfit\", lx=\"n trees\", ly=\"lRate\", \n",
    "          logx=False, logy=False, log=False)\n",
    "#Score at best params: 0.821\n",
    "#Overfit at best params = 0.073"
   ]
  },
  {
   "cell_type": "code",
   "execution_count": 8,
   "metadata": {},
   "outputs": [
    {
     "name": "stdout",
     "output_type": "stream",
     "text": [
      "Elapsed time: 10.4 s\n"
     ]
    }
   ],
   "source": [
    "from sklearn.ensemble import AdaBoostClassifier\n",
    "\n",
    "#Ada_VZZ = AdaBoostClassifier(n_estimators=nTrees_best_Ada, learning_rate=lRate_best_Ada, random_state=42)\n",
    "#Ada_VZZ = AdaBoostClassifier(n_estimators=7943, learning_rate=0.004, random_state=42)\n",
    "Ada_VZZ = AdaBoostClassifier(n_estimators=1584, learning_rate=0.05, random_state=42)\n",
    "start = time()\n",
    "Ada_VZZ.fit(X4_VZZ_train, y4_VZZ_train)\n",
    "print(\"Elapsed time: %.3g s\" % (time()-start))"
   ]
  },
  {
   "cell_type": "code",
   "execution_count": 11,
   "metadata": {},
   "outputs": [
    {
     "name": "stdout",
     "output_type": "stream",
     "text": [
      "90 % eff --> fpr= 49.9 %\n"
     ]
    },
    {
     "data": {
      "image/png": "[encoded data removed]",
      "text/plain": [
       "<Figure size 432x288 with 1 Axes>"
      ]
     },
     "metadata": {
      "needs_background": "light"
     },
     "output_type": "display_data"
    }
   ],
   "source": [
    "from sklearn.metrics import roc_curve, auc\n",
    "\n",
    "fpr, tpr, thresholds = roc_curve(y4_VZZ_valid, Ada_VZZ.predict_proba(X4_VZZ_valid)[:, 1])\n",
    "auc_testVZZ = auc(fpr, tpr)\n",
    "\n",
    "eff = 0.90\n",
    "wp_fpr = fpr[np.searchsorted(tpr, eff, side='right')]\n",
    "\n",
    "plt.plot(fpr, tpr, color='darkorange',\n",
    "         lw=2, label='ROC (area = %.1f %%)' % (100*auc_testVZZ), linestyle='-')\n",
    "plt.plot([0, 1], [0, 1], color='navy', lw=2, linestyle='--')\n",
    "plt.plot((wp_fpr), (eff), 'o', color='darkred', label='wp at %.0f %% eff' % (eff*100))\n",
    "plt.plot((0.214019),(0.478722), \"b^\", label=\"minDM < 13 GeV/c^2\")\n",
    "plt.plot((0.356657),(0.624044), \"g^\", label=\"minDM < 30 GeV/c^2\")\n",
    "plt.plot((-0.01, wp_fpr),(eff, eff), \"r--\")\n",
    "plt.plot((wp_fpr, wp_fpr),(0, eff), \"r--\")\n",
    "\n",
    "plt.xlim([-0.01, 1.0])\n",
    "plt.ylim([0.0, 1.01])\n",
    "plt.xlabel('False Positives [%]')\n",
    "plt.ylabel('Efficiency')\n",
    "#plt.title('ROC AK4 in VZZ (Validation)')\n",
    "plt.legend(loc=\"lower right\")\n",
    "\n",
    "print('%.0f %% eff --> fpr= %.1f %%' % (eff*100, wp_fpr*100))"
   ]
  },
  {
   "cell_type": "code",
   "execution_count": 16,
   "metadata": {},
   "outputs": [
    {
     "name": "stdout",
     "output_type": "stream",
     "text": [
      "< 13 GeV/c^2  (21.401899999999998, 47.8722, 70.46413502109705)\n",
      "< 30 GeV/c^2  (35.6657, 62.4044, 84.38818565400844)\n"
     ]
    }
   ],
   "source": [
    "i_classic = np.searchsorted(fpr, 0.214019, side='right')\n",
    "print(\"< 13 GeV/c^2 \", (0.214019*100, 0.478722*100, tpr[i_classic]*100))\n",
    "i_classic = np.searchsorted(fpr, 0.356657, side='right')\n",
    "print(\"< 30 GeV/c^2 \", (0.356657*100, 0.624044*100, tpr[i_classic]*100))"
   ]
  },
  {
   "cell_type": "code",
   "execution_count": 34,
   "metadata": {},
   "outputs": [
    {
     "name": "stdout",
     "output_type": "stream",
     "text": [
      "----- Working point at efficiency = 95 % -----\n",
      "Index: 168/190\n",
      "False positives: 65.89% - threshold: 0.495\n",
      "----- ----- ----- ----- ----- ----- ----- -----\n",
      "\n",
      "----- Working point at efficiency = 90 % -----\n",
      "Index: 146/190\n",
      "False positives: 49.85 % - threshold: 0.496\n",
      "----- ----- ----- ----- ----- ----- ----- -----\n"
     ]
    }
   ],
   "source": [
    "# Working point at 95% efficiency\n",
    "i_wp = np.searchsorted(tpr, 0.95, side='right')\n",
    "print(\"----- Working point at efficiency = 95 % -----\")\n",
    "print(\"Index: %i/%i\" % (i_wp, len(thresholds)))\n",
    "print('False positives: %.2f%% - threshold: %.3g' % (fpr[i_wp]*100, thresholds[i_wp]))\n",
    "print(\"----- ----- ----- ----- ----- ----- ----- -----\\n\")\n",
    "\n",
    "i_wp = np.searchsorted(tpr, 0.9, side='right')\n",
    "print(\"----- Working point at efficiency = 90 % -----\")\n",
    "print(\"Index: %i/%i\" % (i_wp, len(thresholds)))\n",
    "print('False positives: %.2f %% - threshold: %.3g' % (fpr[i_wp]*100, thresholds[i_wp]))\n",
    "print(\"----- ----- ----- ----- ----- ----- ----- -----\")"
   ]
  },
  {
   "cell_type": "code",
   "execution_count": 29,
   "metadata": {},
   "outputs": [
    {
     "name": "stdout",
     "output_type": "stream",
     "text": [
      "Elapsed time: 11.6 s\n",
      "[0.05934343 0.05366162 0.12626263 0.03409091 0.06186869 0.0719697\n",
      " 0.08522727 0.0770202  0.03724747 0.02020202 0.03787879 0.07133838\n",
      " 0.0864899  0.01073232 0.02209596 0.02840909 0.03030303 0.05618687\n",
      " 0.02967172]\n"
     ]
    }
   ],
   "source": [
    "# Features importance\n",
    "#Ada_VZZ.set_params(**{\"n_estimators\": nTrees_best_Ada, \"learning_rate\": lRate_best_Ada})\n",
    "#Ada_VZZ.set_params(**{\"n_estimators\": 7943, \"learning_rate\": 0.004})\n",
    "#start = time()\n",
    "#Ada_VZZ.fit(feat4_VZZ, target4_VZZ)\n",
    "print(\"Elapsed time: %.3g s\" % (time()-start))\n",
    "print(Ada_VZZ.feature_importances_)"
   ]
  },
  {
   "cell_type": "code",
   "execution_count": 30,
   "metadata": {},
   "outputs": [
    {
     "data": {
      "image/png": "[encoded data removed]",
      "text/plain": [
       "<Figure size 432x288 with 1 Axes>"
      ]
     },
     "metadata": {
      "needs_background": "light"
     },
     "output_type": "display_data"
    }
   ],
   "source": [
    "#plt.plot(AdaBoost.feature_importances_, \"ro\")\n",
    "plt.plot(np.sort(Ada_VZZ.feature_importances_)[::-1], \"ro\", label='sorted')\n",
    "plt.title(\"Feature importance AK4 classifier\")\n",
    "plt.legend()\n",
    "pass"
   ]
  },
  {
   "cell_type": "code",
   "execution_count": 35,
   "metadata": {},
   "outputs": [
    {
     "name": "stdout",
     "output_type": "stream",
     "text": [
      "Training time = 12.6 s\n",
      "File size: 1.01 MB  (at C:/Shared\\VZZ_AK4_tree.pkl)\n"
     ]
    }
   ],
   "source": [
    "from pickle import Pickler\n",
    "\n",
    "#Ada4 = AdaBoostClassifier(n_estimators=nTrees_best_Ada, learning_rate=lRate_best_Ada, random_state=42)\n",
    "Ada4 = AdaBoostClassifier(n_estimators=1584, learning_rate=0.05, random_state=42)\n",
    "start=time()\n",
    "Ada4.fit(feat4_VZZ, target4_VZZ)\n",
    "print(\"Training time = %.3g s\" % (time() - start))\n",
    "obj_path = os.path.join(\"C:/\", \"Shared\", \"VZZ_AK4_tree.pkl\")\n",
    "\n",
    "with open(obj_path, mode='w+b') as file: # \"C:/Shared/VZZ_AK4_tree.pkl\"\n",
    "    pickler = Pickler(file)#, protocol=3)\n",
    "    pickler.dump(Ada4)\n",
    "    del pickler\n",
    "\n",
    "size=os.stat(obj_path).st_size\n",
    "j = math.floor(math.log(size,2)/10)\n",
    "print(\"File size: %.3g %sB  (at %s)\" % (size/1024**j, ['','K','M','G'][j], obj_path))\n",
    "del size, j"
   ]
  },
  {
   "cell_type": "code",
   "execution_count": 6,
   "metadata": {},
   "outputs": [],
   "source": [
    "from pickle import Unpickler\n",
    "\n",
    "obj_path = os.path.join(\"C:/\", \"Shared\", \"VZZ_AK4_tree.pkl\")\n",
    "with open(obj_path, mode='rb') as file:\n",
    "    unpickler = Unpickler(file)\n",
    "    loaded_Ada4 = unpickler.load()\n",
    "    del unpickler\n",
    "\n",
    "#print(\"Loaded Object ID: %d   Ada ID: %d   Same? %s\" % (id(loaded_Ada4), id(Ada4), id(loaded_Ada4)==id(Ada4)))"
   ]
  },
  {
   "cell_type": "code",
   "execution_count": 11,
   "metadata": {},
   "outputs": [
    {
     "name": "stdout",
     "output_type": "stream",
     "text": [
      "Training time = 14.5 s\n"
     ]
    }
   ],
   "source": [
    "Ada4 = AdaBoostClassifier(n_estimators=1584, learning_rate=0.05, random_state=42)\n",
    "start=time()\n",
    "Ada4.fit(feat4_VZZ, target4_VZZ)\n",
    "print(\"Training time = %.3g s\" % (time() - start))"
   ]
  },
  {
   "cell_type": "code",
   "execution_count": 12,
   "metadata": {},
   "outputs": [],
   "source": [
    "live_pred = Ada4.predict_proba(feat4_VZZ)[:,1]\n",
    "#loaded_pred = loaded_Ada4.predict_proba(feat4_VZZ)[:,1]"
   ]
  },
  {
   "cell_type": "code",
   "execution_count": 59,
   "metadata": {},
   "outputs": [
    {
     "name": "stdout",
     "output_type": "stream",
     "text": [
      "90 % eff --> fpr= 36.4 %\n"
     ]
    },
    {
     "data": {
      "image/png": "[encoded data removed]",
      "text/plain": [
       "<Figure size 432x288 with 1 Axes>"
      ]
     },
     "metadata": {
      "needs_background": "light"
     },
     "output_type": "display_data"
    }
   ],
   "source": [
    "from sklearn.metrics import roc_curve, auc\n",
    "\n",
    "#fpr, tpr, thresholds = roc_curve(target4_VZZ, loaded_pred)\n",
    "fpr, tpr, thresholds = roc_curve(y4_VZZ_valid, Ada_VZZ.predict_proba(X4_VZZ_valid)[:, 1])\n",
    "auc_testVZZ = auc(fpr, tpr)\n",
    "\n",
    "eff = 0.90\n",
    "wp_fpr = fpr[np.searchsorted(tpr, eff, side='right')]\n",
    "\n",
    "plt.plot(fpr, tpr, color='darkorange',\n",
    "         lw=2, label='ROC (area = %.1f %%)' % (100*auc_testVZZ), linestyle='-')\n",
    "plt.plot([0, 1], [0, 1], color='navy', lw=2, linestyle='--')\n",
    "plt.plot((wp_fpr), (eff), 'o', color='darkred', label='wp at %.0f %% eff' % (eff*100))\n",
    "plt.plot((0.214019, 0.356657),(0.478722, 0.624044), \"go\", label=\"cut on minDM\")\n",
    "#plt.plot((0.356657),(0.624044), \"go\", label=\"cut on minDM\")\n",
    "plt.xlim([-0.01, 1.0])\n",
    "plt.ylim([0.0, 1.01])\n",
    "plt.xlabel('False Positive Rate')\n",
    "plt.ylabel('True Positive Rate')\n",
    "#plt.title('ROC AK4 in VZZ (Validation)')\n",
    "plt.legend(loc=\"lower right\")\n",
    "\n",
    "print('%.0f %% eff --> fpr= %.1f %%' % (eff*100, wp_fpr*100))"
   ]
  },
  {
   "cell_type": "code",
   "execution_count": 15,
   "metadata": {},
   "outputs": [
    {
     "data": {
      "image/png": "[encoded data removed]",
      "text/plain": [
       "<Figure size 432x288 with 1 Axes>"
      ]
     },
     "metadata": {
      "needs_background": "light"
     },
     "output_type": "display_data"
    }
   ],
   "source": [
    "plt.hist([live_pred[target4_VZZ==1], live_pred[target4_VZZ==0]], \n",
    "         label=['Signal AK4 pairs', 'Background AK4 pairs'], bins=50)\n",
    "plt.xlabel(\"Classifier output\")\n",
    "plt.ylabel(\"# Jets AK4\")\n",
    "plt.legend()\n",
    "pass"
   ]
  },
  {
   "cell_type": "code",
   "execution_count": 11,
   "metadata": {},
   "outputs": [
    {
     "data": {
      "image/png": "[encoded data removed]",
      "text/plain": [
       "<Figure size 432x288 with 1 Axes>"
      ]
     },
     "metadata": {
      "needs_background": "light"
     },
     "output_type": "display_data"
    }
   ],
   "source": [
    "plt.hist([loaded_pred[target4_VZZ==1], loaded_pred[target4_VZZ==0]], \n",
    "         label=['Signal AK4 pairs', 'Background AK4 pairs'], bins=50)\n",
    "plt.xlabel(\"Classifier output\")\n",
    "plt.ylabel(\"# Jets AK4\")\n",
    "plt.legend()\n",
    "pass"
   ]
  },
  {
   "cell_type": "code",
   "execution_count": 14,
   "metadata": {},
   "outputs": [
    {
     "data": {
      "text/plain": [
       "0.5555740174266967"
      ]
     },
     "execution_count": 14,
     "metadata": {},
     "output_type": "execute_result"
    }
   ],
   "source": [
    "loaded_pred[np.argmax(loaded_pred)]\n"
   ]
  },
  {
   "cell_type": "code",
   "execution_count": 17,
   "metadata": {},
   "outputs": [
    {
     "data": {
      "image/png": "[encoded data removed]",
      "text/plain": [
       "<Figure size 432x288 with 1 Axes>"
      ]
     },
     "metadata": {
      "needs_background": "light"
     },
     "output_type": "display_data"
    }
   ],
   "source": [
    "from scipy.special import erf\n",
    "\n",
    "my_erf = lambda x,mean=loaded_pred.mean(),std=loaded_pred.std(): (erf((x-mean)/std) + 1)/2\n",
    "spread_pred = np.vectorize(my_erf)(loaded_pred)\n",
    "\n",
    "plt.hist([spread_pred[target4_VZZ==1], spread_pred[target4_VZZ==0]], \n",
    "         label=['Signal AK4 pairs', 'Background AK4 pairs'], bins=50)\n",
    "plt.xlabel(\"Classifier output\")\n",
    "plt.ylabel(\"# Jets AK4\")\n",
    "plt.legend()\n",
    "pass"
   ]
  },
  {
   "cell_type": "code",
   "execution_count": null,
   "metadata": {},
   "outputs": [],
   "source": [
    "# Convert to script\n",
    "# !jupyter nbconvert --to script config_template.ipynb"
   ]
  },
  {
   "cell_type": "markdown",
   "metadata": {},
   "source": [
    "## Old stuff"
   ]
  },
  {
   "cell_type": "code",
   "execution_count": null,
   "metadata": {},
   "outputs": [],
   "source": [
    "stop"
   ]
  },
  {
   "cell_type": "code",
   "execution_count": null,
   "metadata": {},
   "outputs": [],
   "source": [
    "nTrees_Ada_old = np.logspace(0.5, 3., 8).astype(int)\n",
    "lRate_Ada_old = np.logspace(-0.8, -0.2, 7)\n",
    "grid_Ada_old = grid_Ada\n",
    "nTrees_best_Ada_old = grid_Ada_old.best_params_['n_estimators']\n",
    "lRate_best_Ada_old  = grid_Ada_old.best_params_['learning_rate']"
   ]
  },
  {
   "cell_type": "code",
   "execution_count": null,
   "metadata": {},
   "outputs": [],
   "source": [
    "print (\"best param choice (old): nTrees = %.2f (10^%.5f)\" % (nTrees_best_Ada_old, math.log10(nTrees_best_Ada_old)))\n",
    "print (\"best param choice (old): lRate  = %.2f (10^%.3f)\" % (lRate_best_Ada_old, math.log10(lRate_best_Ada_old)))\n",
    "\n",
    "grid_plot(grid_Ada_old.cv_results_['mean_test_score'], nTrees_Ada_old, lRate_Ada_old, \n",
    "          lx=\"n trees\", ly=\"learning rate\", title=\"AdaBoost_old - Score\", log=False, logx=False)\n",
    "print(\"Best score (old) = %.3f\" % (grid_Ada_old.best_score_))"
   ]
  }
 ],
 "metadata": {
  "kernelspec": {
   "display_name": "Python 3",
   "language": "python",
   "name": "python3"
  },
  "language_info": {
   "codemirror_mode": {
    "name": "ipython",
    "version": 3
   },
   "file_extension": ".py",
   "mimetype": "text/x-python",
   "name": "python",
   "nbconvert_exporter": "python",
   "pygments_lexer": "ipython3",
   "version": "3.7.7"
  }
 },
 "nbformat": 4,
 "nbformat_minor": 4
}
