{
 "cells": [
  {
   "cell_type": "code",
   "execution_count": 1,
   "metadata": {},
   "outputs": [],
   "source": [
    "import sys, os\n",
    "import numpy as np\n",
    "import pandas as pd\n",
    "import matplotlib.pyplot as plt\n",
    "import math\n",
    "from time import time\n",
    "import useful_functions"
   ]
  },
  {
   "cell_type": "code",
   "execution_count": 2,
   "metadata": {},
   "outputs": [
    {
     "name": "stdout",
     "output_type": "stream",
     "text": [
      "Found!\n",
      "\tVZZ_1618.csv\n",
      "\tVZZ_1618_TagAK4.csv\n",
      "\tVZZ_1618_TagAK8.csv\n",
      "\tZZTo4l_2016.csv\n",
      "\tZZTo4l_2016_TagAK4.csv\n",
      "\tZZTo4l_2016_TagAK8.csv\n",
      "\tZZTo4l_2017.csv\n",
      "\tZZTo4l_2017_TagAK8.csv\n"
     ]
    }
   ],
   "source": [
    "import re\n",
    "\n",
    "new_dir = os.path.join(\"C:/\", \"Shared\", \"Tesi magistrale\", \"databases\")\n",
    "stable_dir = os.path.join(\"C:/\", \"Shared\", \"Tesi magistrale\", \"databases\", \"stable\")\n",
    "dir_path = stable_dir\n",
    "if(os.path.exists(dir_path) and os.path.isdir(dir_path)):\n",
    "    print(\"Found!\")\n",
    "    files_names = [f for f in os.listdir(dir_path) \n",
    "                   if (os.path.isfile(os.path.join(dir_path, f)) and re.search(\".csv$\", f))]\n",
    "    for f in files_names:\n",
    "        print('\\t%s' % f) #listdir returns a list of filenames"
   ]
  },
  {
   "cell_type": "code",
   "execution_count": 3,
   "metadata": {},
   "outputs": [],
   "source": [
    "def get_raw_data(file_path):\n",
    "    try:\n",
    "        in_file = open(file_path, 'r')  #TODO: Add an header row in the csv builder (DBGenerator.cc)\n",
    "        raw_data = pd.read_csv(in_file, sep=',', engine='c', header=None) #raw_data is a pandas.DataFrame\n",
    "    except IOError as e:\n",
    "        print(e)\n",
    "        return None\n",
    "    else:\n",
    "        in_file.close()\n",
    "        return raw_data"
   ]
  },
  {
   "cell_type": "code",
   "execution_count": 4,
   "metadata": {},
   "outputs": [],
   "source": [
    "def drawPoints(source, **kwargs):\n",
    "    errTrain = [source[a]['train'] for a in source.keys()]\n",
    "    errTest = [source[a]['test'] for a in source.keys()]\n",
    "    print(source.keys())\n",
    "    plt.title(kwargs.get(\"title\", \"Default Tittle\"))\n",
    "    plt.scatter(source.keys(), errTest, label='test')\n",
    "    plt.scatter(source.keys(), errTrain, label='train')\n",
    "    if(kwargs.get(\"logx\", True)):\n",
    "        plt.xlabel('log10(%s)' % kwargs.get(\"xlabel\", \"x axis\"))\n",
    "        plt.gca().set_xscale('log')\n",
    "    else:\n",
    "        plt.xlabel(kwargs.get(\"xlabel\", \"x axis\"))\n",
    "    plt.ylabel(kwargs.get(\"ylabel\", \"Error\"))\n",
    "    plt.legend()\n",
    "    pass"
   ]
  },
  {
   "cell_type": "code",
   "execution_count": 5,
   "metadata": {},
   "outputs": [],
   "source": [
    "from matplotlib.ticker import FormatStrFormatter\n",
    "\n",
    "def grid_plot(data, nx, ny, **kwargs): #n_ = range of _\n",
    "    scores = data.reshape(ny.shape[0], nx.shape[0])\n",
    "    title = kwargs.get(\"title\", \"Title\")\n",
    "    \n",
    "    if(kwargs.get(\"log\", True)):\n",
    "        scores = np.vectorize(lambda x: -math.log10(1-x))(scores)\n",
    "        if(title!=\"\"):\n",
    "            title += \" (-log(1-x))\"\n",
    "        #title.join(\" (-log(1-x))\")\n",
    "\n",
    "    plt.figure(figsize=(8, 8))\n",
    "\n",
    "    plt.imshow(scores, interpolation='nearest', origin='lower')#, cmap=plt.cm.hot)\n",
    "    plt.title(title)\n",
    "    #plt.gca().xaxis.set_major_formatter(FormatStrFormatter('%.3g'))\n",
    "    #plt.gca().xaxis.set_minor_formatter(FormatStrFormatter('%.3g'))\n",
    "    #plt.gca().yaxis.set_major_formatter(FormatStrFormatter('%.3g'))\n",
    "    #plt.gca().yaxis.set_minor_formatter(FormatStrFormatter('%.3g'))\n",
    "    if(kwargs.get(\"logx\", True)):\n",
    "        plt.xlabel('log10(%s)' % kwargs.get(\"lx\", \"lx\"))\n",
    "        plt.xticks(np.arange(len(nx)), map(lambda x : round(math.log10(x),2), nx))\n",
    "    else:\n",
    "        plt.xlabel(kwargs.get(\"lx\", \"lx\"))\n",
    "        plt.xticks(np.arange(len(nx)), map(lambda x: round(x,2), nx))\n",
    "    \n",
    "    if(kwargs.get(\"logy\", True)):\n",
    "        plt.ylabel('log10(%s)' % kwargs.get(\"ly\", \"ly\"))\n",
    "        plt.yticks(np.arange(len(ny)), map(lambda x : round(math.log10(x),2), ny))  # math.log10(ny)\n",
    "    else:\n",
    "        plt.ylabel(kwargs.get(\"ly\", \"ly\"))\n",
    "        plt.yticks(np.arange(len(ny)), map(lambda x: round(x,3), ny))\n",
    "    plt.colorbar()"
   ]
  },
  {
   "cell_type": "code",
   "execution_count": 6,
   "metadata": {},
   "outputs": [],
   "source": [
    "def overf_log(grid):\n",
    "    if(grid.cv_results_.get('mean_train_score') is None):\n",
    "        print(\"Error: mean_train_score not found\")\n",
    "        return\n",
    "    if(grid.cv_results_.get('mean_test_score') is None):\n",
    "        print(\"Error: mean_test_score not found\")\n",
    "        return\n",
    "    overfit = (grid.cv_results_['mean_train_score'] - grid.cv_results_['mean_test_score'])\n",
    "    index = np.argmax(grid.cv_results_['mean_test_score'])\n",
    "    print(\"Score at best params: %.2f %%\" % (grid.cv_results_['mean_test_score'][index]*100))\n",
    "    print(\"Overfit at best params = %.2f %%\" % (overfit[index]*100))"
   ]
  },
  {
   "cell_type": "markdown",
   "metadata": {},
   "source": [
    "# Data"
   ]
  },
  {
   "cell_type": "code",
   "execution_count": 7,
   "metadata": {},
   "outputs": [
    {
     "name": "stdout",
     "output_type": "stream",
     "text": [
      "Events total sig: 1854 \tevents total bkg: 13283 \n",
      "Weight total sig: 8.22 \tweight total bkg: 143.28 \n",
      "Events sig SR: 962 \tevents bkg SR: 0 \n",
      "Weight sig SR: 3.96 \tweight bkg SR: 0.00 \n"
     ]
    }
   ],
   "source": [
    "data_sig = get_raw_data(os.path.join(dir_path, \"VZZ_1618.csv\"))\n",
    "data_bkg = get_raw_data(os.path.join(dir_path, \"ZZTo4l_2017.csv\"))\n",
    "print(\"Events total sig: %d \\tevents total bkg: %d \" % ( len(data_sig), len(data_bkg) ) )\n",
    "print(\"Weight total sig: %.2f \\tweight total bkg: %.2f \" % ( sum(data_sig[1]), sum(data_bkg[1]) ) )\n",
    "\n",
    "sig_SR = data_sig[data_sig[0] != 0].copy()\n",
    "bkg_SR = data_bkg[data_bkg[0] != 0].copy()\n",
    "print(\"Events sig SR: %d \\tevents bkg SR: %d \" % ( len(sig_SR), len(bkg_SR) ) )\n",
    "print(\"Weight sig SR: %.2f \\tweight bkg SR: %.2f \" % ( sum(sig_SR[1]), sum(bkg_SR[1]) ) )\n",
    "      #(sum(data_sig[1][data_sig[0] != 0]), sum(data_bkg[1][data_bkg[0] != 0])) )\n",
    "\n",
    "#bkg_SR[0] = 0\n",
    "#print(\"with target=1: %.2f \\twith target=1: %.2f \" % ( sum(sig_SR[1][sig_SR[0]!=0]), sum(bkg_SR[1][bkg_SR[0]!=0]) ) )\n",
    "#print(\"shape:\", sig_SR.shape,\"  \\tshape:\", bkg_SR.shape)\n",
    "\n",
    "del sig_SR, bkg_SR\n",
    "#del data_bkg\n"
   ]
  },
  {
   "cell_type": "code",
   "execution_count": 8,
   "metadata": {
    "scrolled": true
   },
   "outputs": [
    {
     "name": "stdout",
     "output_type": "stream",
     "text": [
      "Signal events: 962 \tweight: 3.964\n",
      "Backgr events: 14175 \tweight: 147.5\n",
      "\n",
      "Starting S/sqrt(B): 0.326\n",
      "\n",
      "Trainable signal: 890 \tweight: 4.274\n",
      "Trainable backgr: 14084 \tweight: 148.1\n"
     ]
    }
   ],
   "source": [
    "from sklearn.utils import shuffle\n",
    "from sklearn.model_selection import train_test_split\n",
    "\n",
    "assert (data_sig.shape[1] == data_bkg.shape[1]), \"ERROR: Datasets have different shapes!\"\n",
    "\n",
    "# signal = everything\n",
    "#data_sig[0] = 1\n",
    "\n",
    "# signal = Search Region\n",
    "data_raw = pd.concat([data_sig, data_bkg])\n",
    "\n",
    "shuffle(data_raw, random_state=42)\n",
    "\n",
    "data = data_raw[(data_raw[1] > 0)]\n",
    "\n",
    "w_1r = sum(data_raw[data_raw[0] != 0][1])\n",
    "w_0r = sum(data_raw[data_raw[0] == 0][1])\n",
    "w_1 = sum(data[data[0] != 0][1])\n",
    "w_0 = sum(data[data[0] == 0][1])\n",
    "\n",
    "print(\"Signal events: %d \\tweight: %.4g\" % (len(data_raw[data_raw[0] != 0]), w_1r ) )\n",
    "print(\"Backgr events: %d \\tweight: %.4g\" % (len(data_raw[data_raw[0] == 0]), w_0r ) )\n",
    "print(\"\\nStarting S/sqrt(B): %.3f\\n\" % (w_1r/math.sqrt(w_0r)) )\n",
    "print(\"Trainable signal: %d \\tweight: %.4g\" % (len(data[data[0] != 0]), w_1 ) )\n",
    "print(\"Trainable backgr: %d \\tweight: %.4g\" % (len(data[data[0] == 0]), w_0 ) )\n",
    "\n",
    "del w_0r, w_1r"
   ]
  },
  {
   "cell_type": "code",
   "execution_count": 9,
   "metadata": {},
   "outputs": [
    {
     "name": "stdout",
     "output_type": "stream",
     "text": [
      "Features: 26\n"
     ]
    }
   ],
   "source": [
    "# Separating features, weight and target\n",
    "\n",
    "y_raw   = data_raw[0]\n",
    "w_raw   = data_raw[1]\n",
    "X_raw = data_raw.drop(0, axis=1).drop(1, axis=1)\n",
    "\n",
    "y   = data[0]\n",
    "w   = data[1]\n",
    "X = data.drop(0, axis=1).drop(1, axis=1)\n",
    "print(\"Features:\", X.shape[1])\n",
    "\n",
    "X_train, X_valid, w_train, w_valid, y_train, y_valid = train_test_split(X, w, y, test_size=0.2, random_state=42)\n",
    "\n",
    "pass"
   ]
  },
  {
   "cell_type": "raw",
   "metadata": {},
   "source": [
    "import useful_functions\n",
    "#print(dir(useful_functions))\n",
    "for key in dir(useful_functions):\n",
    "    temp = eval(\"useful_functions.%s\" % (key))\n",
    "    if(type(temp) == type(\"\")):\n",
    "        print(key, ':\\t', type(temp), \" \\t-->\", temp)\n",
    "    else:\n",
    "        print(key, ':\\t', type(temp))"
   ]
  },
  {
   "cell_type": "code",
   "execution_count": 30,
   "metadata": {},
   "outputs": [
    {
     "name": "stdout",
     "output_type": "stream",
     "text": [
      "Explained variance = 100.0 %\n",
      "<class 'numpy.ndarray'> (14974, 7)\n"
     ]
    },
    {
     "data": {
      "image/png": "[encoded data removed]",
      "text/plain": [
       "<Figure size 432x288 with 1 Axes>"
      ]
     },
     "metadata": {
      "needs_background": "light"
     },
     "output_type": "display_data"
    }
   ],
   "source": [
    "# Preprocessing: TruncatedSVD\n",
    "from sklearn.decomposition import TruncatedSVD\n",
    "svd = TruncatedSVD(n_components=7, n_iter=7, random_state=42)\n",
    "X_red = svd.fit_transform(X)\n",
    "\n",
    "plt.plot(svd.explained_variance_ratio_)\n",
    "print(\"Explained variance = %.1f %%\" % (100*svd.explained_variance_ratio_.sum()))\n",
    "print(type(X_red), X_red.shape)"
   ]
  },
  {
   "cell_type": "markdown",
   "metadata": {},
   "source": [
    "# Decision Tree"
   ]
  },
  {
   "cell_type": "code",
   "execution_count": 31,
   "metadata": {},
   "outputs": [
    {
     "name": "stdout",
     "output_type": "stream",
     "text": [
      "nTrees = [  10   21   46  100  215  464 1000] \t\t( [1 1.32 1.66 2 2.33 2.67 3] )\n",
      "lRate = [0.0316 0.0482 0.0736 0.112 0.171 0.261 0.398] \t( [-1.5 -1.32 -1.13 -0.95 -0.767 -0.583 -0.4] )\n"
     ]
    }
   ],
   "source": [
    "nTrees_Ada = np.logspace(1., 3., 7).astype(int)\n",
    "lRate_Ada  = np.logspace(-1.5, -0.4, 7)\n",
    "with np.printoptions(formatter={'float': lambda x: '%.3g' %(x)}):\n",
    "    print(\"nTrees =\", nTrees_Ada, \"\\t\\t(\", np.vectorize(lambda x: math.log10(x))(nTrees_Ada), \")\")\n",
    "    print(\"lRate =\" , lRate_Ada , \"\\t(\", np.vectorize(lambda x: math.log10(x))(lRate_Ada) , \")\")"
   ]
  },
  {
   "cell_type": "code",
   "execution_count": 35,
   "metadata": {},
   "outputs": [
    {
     "data": {
      "text/plain": [
       "False"
      ]
     },
     "execution_count": 35,
     "metadata": {},
     "output_type": "execute_result"
    }
   ],
   "source": [
    "X.isnull().values.any()"
   ]
  },
  {
   "cell_type": "markdown",
   "metadata": {},
   "source": [
    "# AdaBoost"
   ]
  },
  {
   "cell_type": "code",
   "execution_count": 54,
   "metadata": {},
   "outputs": [
    {
     "name": "stdout",
     "output_type": "stream",
     "text": [
      "nTrees = [ 100  177  316  562 1000 1778 3162] \t\t( [2 2.25 2.5 2.75 3 3.25 3.5] )\n",
      "lRate = [0.01 0.0178 0.0316 0.0562 0.1] \t( [-2 -1.75 -1.5 -1.25 -1] )\n",
      "Fitting 5 folds for each of 35 candidates, totalling 175 fits\n"
     ]
    },
    {
     "name": "stderr",
     "output_type": "stream",
     "text": [
      "[Parallel(n_jobs=-1)]: Using backend LokyBackend with 4 concurrent workers.\n",
      "[Parallel(n_jobs=-1)]: Done   5 tasks      | elapsed:   16.3s\n",
      "[Parallel(n_jobs=-1)]: Done  10 tasks      | elapsed:   33.4s\n",
      "[Parallel(n_jobs=-1)]: Done  17 tasks      | elapsed:  1.4min\n",
      "[Parallel(n_jobs=-1)]: Done  24 tasks      | elapsed:  3.1min\n",
      "[Parallel(n_jobs=-1)]: Done  33 tasks      | elapsed:  8.8min\n",
      "[Parallel(n_jobs=-1)]: Done  42 tasks      | elapsed:  9.6min\n",
      "[Parallel(n_jobs=-1)]: Done  53 tasks      | elapsed: 11.6min\n",
      "[Parallel(n_jobs=-1)]: Done  64 tasks      | elapsed: 15.4min\n",
      "[Parallel(n_jobs=-1)]: Done  77 tasks      | elapsed: 19.4min\n",
      "[Parallel(n_jobs=-1)]: Done  90 tasks      | elapsed: 21.9min\n",
      "[Parallel(n_jobs=-1)]: Done 105 tasks      | elapsed: 28.9min\n",
      "[Parallel(n_jobs=-1)]: Done 120 tasks      | elapsed: 30.8min\n",
      "[Parallel(n_jobs=-1)]: Done 137 tasks      | elapsed: 38.3min\n",
      "[Parallel(n_jobs=-1)]: Done 154 tasks      | elapsed: 40.3min\n",
      "[Parallel(n_jobs=-1)]: Done 175 out of 175 | elapsed: 50.5min finished\n"
     ]
    },
    {
     "name": "stdout",
     "output_type": "stream",
     "text": [
      "Elapsed time: 3123 s (52'2\")\n",
      "best parameter choice: nTrees = 1778.00 (10^3.25)\n",
      "best parameter choice: lRate  = 0.01 (10^-2.00)\n"
     ]
    }
   ],
   "source": [
    "from sklearn.ensemble import AdaBoostClassifier\n",
    "from sklearn.model_selection import GridSearchCV\n",
    "\n",
    "AdaBoost = AdaBoostClassifier(random_state=42)\n",
    "nTrees_Ada = np.logspace(2.0, 3.5, 7).astype(int)\n",
    "lRate_Ada  = np.logspace(-2.0, -1., 5)\n",
    "with np.printoptions(formatter={'float': lambda x: '%.3g' %(x)}):\n",
    "    print(\"nTrees =\", nTrees_Ada, \"\\t\\t(\", np.vectorize(lambda x: math.log10(x))(nTrees_Ada), \")\")\n",
    "    print(\"lRate =\" , lRate_Ada , \"\\t(\", np.vectorize(lambda x: math.log10(x))(lRate_Ada) , \")\")\n",
    "    \n",
    "grid_Ada = GridSearchCV(AdaBoost, param_grid={'n_estimators': nTrees_Ada, 'learning_rate': lRate_Ada}, \n",
    "                            verbose=10, scoring='roc_auc', cv=5, n_jobs=-1, return_train_score=True)\n",
    "\n",
    "start = time()\n",
    "grid_Ada.fit(X, y)#, fit_params={'sample_weight': w})\n",
    "sec = time() - start\n",
    "print(\"Elapsed time: %.0f s (%d\\'%.d\\\")\" % (sec, (int)(sec/60), int(sec)%60))\n",
    "nTrees_best_Ada = grid_Ada.best_params_['n_estimators']\n",
    "lRate_best_Ada  = grid_Ada.best_params_['learning_rate']\n",
    "print (\"best parameter choice: nTrees = %.2f (10^%.2f)\" % (nTrees_best_Ada, math.log10(nTrees_best_Ada)))\n",
    "print (\"best parameter choice: lRate  = %.2f (10^%.2f)\" % (lRate_best_Ada, math.log10(lRate_best_Ada)))"
   ]
  },
  {
   "cell_type": "code",
   "execution_count": 57,
   "metadata": {},
   "outputs": [],
   "source": [
    "#AdaBoost.fit(X, y, sample_weight=w)"
   ]
  },
  {
   "cell_type": "code",
   "execution_count": 87,
   "metadata": {},
   "outputs": [
    {
     "name": "stdout",
     "output_type": "stream",
     "text": [
      "Best score = 0.806\n",
      "Limit on lRate:  optimal may be lower\n"
     ]
    },
    {
     "data": {
      "image/png": "[encoded data removed]",
      "text/plain": [
       "<Figure size 576x576 with 2 Axes>"
      ]
     },
     "metadata": {
      "needs_background": "light"
     },
     "output_type": "display_data"
    }
   ],
   "source": [
    "grid_plot(grid_Ada.cv_results_['mean_test_score'], nTrees_Ada, lRate_Ada, \n",
    "          lx=\"n trees\", ly=\"learning rate\", title=\"\",#\"AdaBoost - Score\", \n",
    "          log=False, logx=False, logy=True)\n",
    "print(\"Best score = %.3f\" % (grid_Ada.best_score_))\n",
    "if(nTrees_best_Ada==nTrees_Ada[0]):\n",
    "    print(\"Limit on nTrees: optimal may be lower\")\n",
    "elif(nTrees_best_Ada==nTrees_Ada[-1]):\n",
    "    print(\"Limit on nTrees: optimal may be higher\")\n",
    "if(lRate_best_Ada==lRate_Ada[0]):\n",
    "    print(\"Limit on lRate:  optimal may be lower\")\n",
    "elif(lRate_best_Ada==lRate_Ada[-1]):\n",
    "    print(\"Limit on lRate:  optimal may be higher\")"
   ]
  },
  {
   "cell_type": "code",
   "execution_count": 98,
   "metadata": {},
   "outputs": [
    {
     "name": "stdout",
     "output_type": "stream",
     "text": [
      "Score at best params: 80.57 %\n",
      "Overfit at best params = 2.85 %\n"
     ]
    },
    {
     "data": {
      "image/png": "[encoded data removed]",
      "text/plain": [
       "<Figure size 576x576 with 2 Axes>"
      ]
     },
     "metadata": {
      "needs_background": "light"
     },
     "output_type": "display_data"
    }
   ],
   "source": [
    "overfit = (grid_Ada.cv_results_['mean_train_score']-grid_Ada.cv_results_['mean_test_score'])\n",
    "overf_log(grid_Ada)\n",
    "grid_plot(overfit, nTrees_Ada, lRate_Ada, \n",
    "          lx=\"n trees\", ly=\"lRate\", title=\"\",#\"AdaBoost - Overfit\", \n",
    "          logx=True, logy=True, log=False)"
   ]
  },
  {
   "cell_type": "code",
   "execution_count": 11,
   "metadata": {},
   "outputs": [
    {
     "name": "stdout",
     "output_type": "stream",
     "text": [
      "n_estimators = 1778 \tlearning_rate = 0.01\n",
      "Elapsed time: 83.7 s\n"
     ]
    }
   ],
   "source": [
    "from sklearn.ensemble import AdaBoostClassifier\n",
    "\n",
    "#Ada_VZZ = AdaBoostClassifier(n_estimators=nTrees_best_Ada, learning_rate=lRate_best_Ada, random_state=42)\n",
    "Ada_VZZ = AdaBoostClassifier(n_estimators=1778, learning_rate=0.01, random_state=42)\n",
    "print(\"n_estimators = %.d \\tlearning_rate = %.3g\" % (Ada_VZZ.n_estimators, Ada_VZZ.learning_rate))\n",
    "start = time()\n",
    "Ada_VZZ.fit(X_train, y_train)#, sample_weight=w_train)\n",
    "print(\"Elapsed time: %.3g s\" % (time()-start))\n",
    "\n",
    "live_preds = Ada_VZZ.predict_proba(X_valid)[:, 1]"
   ]
  },
  {
   "cell_type": "code",
   "execution_count": 13,
   "metadata": {},
   "outputs": [
    {
     "name": "stdout",
     "output_type": "stream",
     "text": [
      "Area = 81.7%\n"
     ]
    },
    {
     "data": {
      "image/png": "[encoded data removed]",
      "text/plain": [
       "<Figure size 432x288 with 1 Axes>"
      ]
     },
     "metadata": {
      "needs_background": "light"
     },
     "output_type": "display_data"
    }
   ],
   "source": [
    "from sklearn.metrics import roc_curve, auc\n",
    "\n",
    "fpr, tpr, thresholds = roc_curve(y_valid, live_preds, sample_weight=w_valid)\n",
    "auc_testVZZ = auc(fpr, tpr)\n",
    "print(\"Area = %.1f%%\" % (100*auc_testVZZ))\n",
    "\n",
    "eff = 0.90\n",
    "wp_fpr = fpr[np.searchsorted(tpr, eff, side='right')]\n",
    "\n",
    "plt.plot(fpr, tpr, color='darkorange',\n",
    "         lw=2, label='ROC (area = %.1f %%)' % (100*auc_testVZZ), linestyle='-')\n",
    "plt.plot([0, 1], [0, 1], color='navy', lw=2, linestyle='--')\n",
    "plt.plot((wp_fpr), (eff), 'o', color='darkred', label='wp at %.0f %% eff' % (eff*100))\n",
    "plt.plot((0.214019),(0.478722), \"b^\", label=\"minDM < 13 GeV/c^2\")\n",
    "plt.plot((0.356657),(0.624044), \"g^\", label=\"minDM < 30 GeV/c^2\")\n",
    "plt.plot((-0.01, wp_fpr),(eff, eff), \"r--\")\n",
    "plt.plot((wp_fpr, wp_fpr),(0, eff), \"r--\")\n",
    "\n",
    "plt.xlim([-0.01, 1.0])\n",
    "plt.ylim([0.0, 1.01])\n",
    "plt.xlabel('False Positives [%]')\n",
    "plt.ylabel('Efficiency')\n",
    "#plt.title('ROC VZZ (Validation)')\n",
    "plt.legend(loc=\"lower right\")\n",
    "pass"
   ]
  },
  {
   "cell_type": "raw",
   "metadata": {},
   "source": [
    "With weights: much worse!\n",
    "\n",
    "n_estimators = 1778 \tlearning_rate = 0.01\n",
    "Elapsed time: 76.3 s    Area = 61.9\n",
    "Elapsed time: 75.4 s    Area = 60.9%\n",
    "----- ----- ----- ----- ----- ----- ----- -----\n",
    "n_estimators = 1000 \tlearning_rate = 0.0316\n",
    "Elapsed time: 43.7 s    Area = 66.5%\n",
    "Elapsed time: 41.8 s    Area = 66.4%"
   ]
  },
  {
   "cell_type": "code",
   "execution_count": 196,
   "metadata": {},
   "outputs": [
    {
     "name": "stdout",
     "output_type": "stream",
     "text": [
      "----- Working point at efficiency = 95 % -----\n",
      "Index: 1438/2851\n",
      "False positives: 47.89% - threshold: 0.451\n",
      "----- ----- ----- ----- ----- ----- ----- -----\n",
      "\n",
      "----- Working point at efficiency = 90 % -----\n",
      "Index: 1158/2851\n",
      "False positives: 38.13 % - threshold: 0.458\n",
      "----- ----- ----- ----- ----- ----- ----- -----\n"
     ]
    }
   ],
   "source": [
    "# Working point at 95% efficiency\n",
    "i_wp = np.searchsorted(tpr, 0.95, side='right')\n",
    "print(\"----- Working point at efficiency = 95 % -----\")\n",
    "print(\"Index: %i/%i\" % (i_wp, len(thresholds)))\n",
    "print('False positives: %.2f%% - threshold: %.3g' % (fpr[i_wp]*100, thresholds[i_wp]))\n",
    "print(\"----- ----- ----- ----- ----- ----- ----- -----\\n\")\n",
    "\n",
    "i_wp = np.searchsorted(tpr, 0.9, side='right')\n",
    "print(\"----- Working point at efficiency = 90 % -----\")\n",
    "print(\"Index: %i/%i\" % (i_wp, len(thresholds)))\n",
    "print('False positives: %.2f %% - threshold: %.3g' % (fpr[i_wp]*100, thresholds[i_wp]))\n",
    "print(\"----- ----- ----- ----- ----- ----- ----- -----\")"
   ]
  },
  {
   "cell_type": "code",
   "execution_count": 43,
   "metadata": {},
   "outputs": [
    {
     "data": {
      "image/png": "[encoded data removed]",
      "text/plain": [
       "<Figure size 432x288 with 1 Axes>"
      ]
     },
     "metadata": {
      "needs_background": "light"
     },
     "output_type": "display_data"
    }
   ],
   "source": [
    "plt.plot(Ada_VZZ.feature_importances_[::-1], \"bo\", label='unsorted')\n",
    "plt.plot(np.sort(Ada_VZZ.feature_importances_)[::-1], \"ro\", label='sorted')\n",
    "plt.title(\"Feature importance AK4 classifier\")\n",
    "plt.legend()\n",
    "pass"
   ]
  },
  {
   "cell_type": "code",
   "execution_count": 101,
   "metadata": {},
   "outputs": [
    {
     "name": "stdout",
     "output_type": "stream",
     "text": [
      "Training time = 95.8 s\n",
      "File size: 1.13 MB  (at C:/Shared\\VZZ_Evt_tree.pkl)\n"
     ]
    }
   ],
   "source": [
    "from pickle import Pickler\n",
    "\n",
    "start=time()\n",
    "Ada_VZZ.fit(X, y)#, sample_weight=w)\n",
    "print(\"Training time = %.3g s\" % (time() - start))\n",
    "obj_path = os.path.join(\"C:/\", \"Shared\", \"VZZ_Evt_tree.pkl\")\n",
    "\n",
    "with open(obj_path, mode='w+b') as file: # \"C:/Shared/VZZ_AK4_tree.pkl\"\n",
    "    pickler = Pickler(file)#, protocol=3)\n",
    "    pickler.dump(Ada_VZZ)\n",
    "    del pickler\n",
    "\n",
    "size=os.stat(obj_path).st_size\n",
    "j = math.floor(math.log(size,2)/10)\n",
    "print(\"File size: %.3g %sB  (at %s)\" % (size/1024**j, ['','K','M','G'][j], obj_path))\n",
    "del size, j"
   ]
  },
  {
   "cell_type": "code",
   "execution_count": 102,
   "metadata": {},
   "outputs": [
    {
     "name": "stdout",
     "output_type": "stream",
     "text": [
      "Loaded Object ID: 1841147537800\n"
     ]
    }
   ],
   "source": [
    "from pickle import Unpickler\n",
    "\n",
    "obj_path = os.path.join(\"C:/\", \"Shared\", \"VZZ_Evt_tree.pkl\")\n",
    "with open(obj_path, mode='rb') as file:\n",
    "    unpickler = Unpickler(file)\n",
    "    loaded_Ada_VZZ = unpickler.load()\n",
    "    del unpickler\n",
    "\n",
    "#print(\"Loaded Object ID: %d   Ada ID: %d   Same? %s\" % (id(loaded_Ada_VZZ), id(Ada_VZZ), id(loaded_Ada_VZZ)==id(Ada_VZZ)))\n",
    "print(\"Loaded Object ID:\", id(loaded_Ada_VZZ))"
   ]
  },
  {
   "cell_type": "code",
   "execution_count": 104,
   "metadata": {},
   "outputs": [],
   "source": [
    "loaded_pred = loaded_Ada_VZZ.predict_proba(X)[:,1]"
   ]
  },
  {
   "cell_type": "code",
   "execution_count": 107,
   "metadata": {},
   "outputs": [
    {
     "data": {
      "image/png": "[encoded data removed]",
      "text/plain": [
       "<Figure size 432x288 with 1 Axes>"
      ]
     },
     "metadata": {
      "needs_background": "light"
     },
     "output_type": "display_data"
    }
   ],
   "source": [
    "plt.hist([loaded_pred[y==1], loaded_pred[y==0]], \n",
    "         label=['Signal events', 'Background events'], bins=50, density=True)\n",
    "plt.xlabel(\"Classifier output\")\n",
    "plt.ylabel(\"# Events\")\n",
    "plt.legend()\n",
    "pass"
   ]
  },
  {
   "cell_type": "code",
   "execution_count": 245,
   "metadata": {},
   "outputs": [
    {
     "data": {
      "image/png": "[encoded data removed]",
      "text/plain": [
       "<Figure size 432x288 with 1 Axes>"
      ]
     },
     "metadata": {
      "needs_background": "light"
     },
     "output_type": "display_data"
    }
   ],
   "source": [
    "from scipy.special import erf\n",
    "my_erf = lambda x,mean=loaded_pred.mean(),std=loaded_pred.std(): (erf((x-mean)/std) + 1)/2\n",
    "spread_pred = np.vectorize(my_erf)(loaded_pred)\n",
    "\n",
    "plt.hist([spread_pred[y==1], spread_pred[y==0]], \n",
    "         label=['Signal events', 'Background events'], bins=50)\n",
    "plt.xlabel(\"Classifier output\")\n",
    "plt.ylabel(\"# Events\")\n",
    "plt.legend()\n",
    "pass"
   ]
  },
  {
   "cell_type": "code",
   "execution_count": 225,
   "metadata": {},
   "outputs": [
    {
     "name": "stdout",
     "output_type": "stream",
     "text": [
      "(2995,) (2995,) (2995,)\n",
      "<class 'tuple'> <class 'tuple'> <class 'tuple'>\n"
     ]
    }
   ],
   "source": [
    "print(live_preds.shape, w_valid.shape, y_valid.shape)\n",
    "print(type(live_preds.shape), type(w_valid.shape), type(y_valid.shape))\n",
    "temp = np.stack((np.array(y_valid), np.array(w_valid), np.array(live_preds)))\n",
    "#dFvalid = pd.Dataframe()"
   ]
  },
  {
   "cell_type": "code",
   "execution_count": 234,
   "metadata": {},
   "outputs": [],
   "source": [
    "#temp.transpose()[:5]\n",
    "myDF = pd.DataFrame(temp.transpose())\n",
    "myDF.to_csv(\"output.csv\")"
   ]
  },
  {
   "cell_type": "code",
   "execution_count": 240,
   "metadata": {},
   "outputs": [],
   "source": [
    "from scipy.special import erf\n",
    "my_erf = lambda x,mean=live_preds.mean(),std=live_preds.std(): (erf((x-mean)/std) + 1)/2\n",
    "live_spreaded_pred = np.vectorize(my_erf)(live_preds)"
   ]
  },
  {
   "cell_type": "code",
   "execution_count": 241,
   "metadata": {},
   "outputs": [],
   "source": [
    "temp2 = np.stack((np.array(y_valid), np.array(w_valid), np.array(live_spreaded_pred)))\n",
    "myDF2 = pd.DataFrame(temp.transpose())\n",
    "myDF2.to_csv(\"transf.csv\")"
   ]
  },
  {
   "cell_type": "code",
   "execution_count": 209,
   "metadata": {},
   "outputs": [
    {
     "name": "stdout",
     "output_type": "stream",
     "text": [
      "0.4580456158716332\n",
      "115\n"
     ]
    }
   ],
   "source": [
    "th90 = thresholds[i_wp]\n",
    "print(th90)\n",
    "true90 = np.searchsorted(np.sort(loaded_pred[y==1]), th90, side='right')\n",
    "print(true90)\n",
    "np.cumsum(np.sort(loaded_pred[y==1])[:true90])"
   ]
  },
  {
   "cell_type": "code",
   "execution_count": 235,
   "metadata": {},
   "outputs": [
    {
     "data": {
      "text/plain": [
       "0.4902919438369451"
      ]
     },
     "execution_count": 235,
     "metadata": {},
     "output_type": "execute_result"
    }
   ],
   "source": [
    "max(loaded_pred)"
   ]
  },
  {
   "cell_type": "code",
   "execution_count": 202,
   "metadata": {},
   "outputs": [
    {
     "data": {
      "text/plain": [
       "array([0.44393024, 0.43356417, 0.47649234, ..., 0.45930253, 0.43956384,\n",
       "       0.46677721])"
      ]
     },
     "execution_count": 202,
     "metadata": {},
     "output_type": "execute_result"
    }
   ],
   "source": [
    "loaded_pred"
   ]
  },
  {
   "cell_type": "markdown",
   "metadata": {},
   "source": [
    "# Sig/sqrt(Bkg)"
   ]
  },
  {
   "cell_type": "code",
   "execution_count": 172,
   "metadata": {},
   "outputs": [],
   "source": [
    "from scipy.special import erf\n",
    "my_erf = lambda x,mean=loaded_pred.mean(),std=loaded_pred.std(): (erf((x-mean)/std) + 1)/2\n",
    "spread_pred = np.vectorize(my_erf)(loaded_pred)"
   ]
  },
  {
   "cell_type": "code",
   "execution_count": 173,
   "metadata": {},
   "outputs": [],
   "source": [
    "tmpS = np.stack((w[y==1].to_numpy(), spread_pred[y==1]))\n",
    "sigDF = pd.DataFrame(tmpS) #.transpose()\n",
    "\n",
    "tmpB = np.stack((w[y==0].to_numpy(), spread_pred[y==0]))\n",
    "bkgDF = pd.DataFrame(tmp)"
   ]
  },
  {
   "cell_type": "code",
   "execution_count": 180,
   "metadata": {},
   "outputs": [
    {
     "name": "stdout",
     "output_type": "stream",
     "text": [
      "(100,) (100,)\n"
     ]
    }
   ],
   "source": [
    "minim = min(spread_pred)\n",
    "maxim = max(spread_pred)\n",
    "bins = np.arange(minim, maxim,(maxim-minim)/99.5)\n",
    "hist_sig = np.zeros(100)\n",
    "hist_bkg = np.zeros(100)\n",
    "\n",
    "for i,thr in enumerate(bins):\n",
    "    for a in sigDF:\n",
    "        if(sigDF[a][1] > thr):\n",
    "            hist_sig[i] += sigDF[a][0]\n",
    "    for a in bkgDF:\n",
    "        if(bkgDF[a][1] > thr):\n",
    "            hist_bkg[i] += bkgDF[a][0]\n",
    "\n",
    "print(bins.shape, hist_sig.shape)"
   ]
  },
  {
   "cell_type": "code",
   "execution_count": 217,
   "metadata": {},
   "outputs": [],
   "source": [
    "totDF = pd.DataFrame(np.stack((y.to_numpy(), w.to_numpy(), spread_pred)).transpose())\n",
    "totDF.head()\n",
    "totDF.to_csv(\"here.csv\")"
   ]
  },
  {
   "cell_type": "code",
   "execution_count": 182,
   "metadata": {},
   "outputs": [
    {
     "data": {
      "text/plain": [
       "[<matplotlib.lines.Line2D at 0x1acb05ab748>]"
      ]
     },
     "execution_count": 182,
     "metadata": {},
     "output_type": "execute_result"
    },
    {
     "data": {
      "image/png": "[encoded data removed]",
      "text/plain": [
       "<Figure size 432x288 with 1 Axes>"
      ]
     },
     "metadata": {
      "needs_background": "light"
     },
     "output_type": "display_data"
    }
   ],
   "source": [
    "plt.plot(bins, hist_sig, \"r-\")\n",
    "plt.plot(bins, hist_bkg, \"b-\")"
   ]
  },
  {
   "cell_type": "code",
   "execution_count": 194,
   "metadata": {},
   "outputs": [
    {
     "name": "stderr",
     "output_type": "stream",
     "text": [
      "C:\\Users\\Alberto\\Anaconda3\\lib\\site-packages\\ipykernel_launcher.py:3: RuntimeWarning: divide by zero encountered in double_scalars\n",
      "  This is separate from the ipykernel package so we can avoid doing imports until\n"
     ]
    }
   ],
   "source": [
    "significance = np.zeros(100)#map(lambda s,b: s/math.sqrt(b), (hist_sig, hist_bkg))\n",
    "for i in range(99):\n",
    "    significance[i] = hist_sig[i]/math.sqrt(hist_bkg[i])"
   ]
  },
  {
   "cell_type": "code",
   "execution_count": 195,
   "metadata": {},
   "outputs": [
    {
     "data": {
      "text/plain": [
       "[<matplotlib.lines.Line2D at 0x1acad1749c8>]"
      ]
     },
     "execution_count": 195,
     "metadata": {},
     "output_type": "execute_result"
    },
    {
     "data": {
      "image/png": "[encoded data removed]",
      "text/plain": [
       "<Figure size 432x288 with 1 Axes>"
      ]
     },
     "metadata": {
      "needs_background": "light"
     },
     "output_type": "display_data"
    }
   ],
   "source": [
    "plt.plot(bins, significance)"
   ]
  },
  {
   "cell_type": "code",
   "execution_count": 185,
   "metadata": {},
   "outputs": [
    {
     "ename": "TypeError",
     "evalue": "only size-1 arrays can be converted to Python scalars",
     "output_type": "error",
     "traceback": [
      "\u001b[1;31m---------------------------------------------------------------------------\u001b[0m",
      "\u001b[1;31mTypeError\u001b[0m                                 Traceback (most recent call last)",
      "\u001b[1;32m<ipython-input-185-aef9f8bbd15c>\u001b[0m in \u001b[0;36m<module>\u001b[1;34m\u001b[0m\n\u001b[1;32m----> 1\u001b[1;33m \u001b[0msignificance\u001b[0m \u001b[1;33m=\u001b[0m \u001b[0mhist_sig\u001b[0m\u001b[1;33m/\u001b[0m\u001b[0mmath\u001b[0m\u001b[1;33m.\u001b[0m\u001b[0msqrt\u001b[0m\u001b[1;33m(\u001b[0m\u001b[0mhist_bkg\u001b[0m\u001b[1;33m)\u001b[0m\u001b[1;33m\u001b[0m\u001b[1;33m\u001b[0m\u001b[0m\n\u001b[0m",
      "\u001b[1;31mTypeError\u001b[0m: only size-1 arrays can be converted to Python scalars"
     ]
    }
   ],
   "source": [
    "significance = hist_sig/math.sqrt(hist_bkg)"
   ]
  },
  {
   "cell_type": "markdown",
   "metadata": {},
   "source": [
    "# SVM"
   ]
  },
  {
   "cell_type": "code",
   "execution_count": 53,
   "metadata": {},
   "outputs": [
    {
     "name": "stdout",
     "output_type": "stream",
     "text": [
      "\n",
      " ----- ----- Support Vector Machine ----- ----- \n"
     ]
    }
   ],
   "source": [
    "print(\"\\n ----- ----- Support Vector Machine ----- ----- \")\n",
    "#from sklearn.ensemble import RandomForestClassifier\n",
    "#from sklearn.decomposition import TruncatedSVD\n",
    "from sklearn import svm"
   ]
  },
  {
   "cell_type": "markdown",
   "metadata": {},
   "source": [
    "## RBF kernel"
   ]
  },
  {
   "cell_type": "code",
   "execution_count": 54,
   "metadata": {},
   "outputs": [
    {
     "name": "stdout",
     "output_type": "stream",
     "text": [
      "Fitting 5 folds for each of 9 candidates, totalling 45 fits\n"
     ]
    },
    {
     "name": "stderr",
     "output_type": "stream",
     "text": [
      "[Parallel(n_jobs=-1)]: Using backend LokyBackend with 4 concurrent workers.\n",
      "[Parallel(n_jobs=-1)]: Done   5 tasks      | elapsed:   27.0s\n",
      "[Parallel(n_jobs=-1)]: Done  10 tasks      | elapsed:  1.1min\n",
      "[Parallel(n_jobs=-1)]: Done  17 tasks      | elapsed:  2.2min\n",
      "[Parallel(n_jobs=-1)]: Done  24 tasks      | elapsed:  4.3min\n",
      "[Parallel(n_jobs=-1)]: Done  33 tasks      | elapsed:  9.0min\n",
      "[Parallel(n_jobs=-1)]: Done  43 out of  45 | elapsed: 20.7min remaining:   57.8s\n",
      "[Parallel(n_jobs=-1)]: Done  45 out of  45 | elapsed: 22.4min finished\n"
     ]
    },
    {
     "name": "stdout",
     "output_type": "stream",
     "text": [
      "Elapsed time: 1374 s\n",
      "best parameter choice: gammas = 0.00 (10^-6.00)\n",
      "best parameter choice: Cs  = 10000.00 (10^4.00)\n"
     ]
    }
   ],
   "source": [
    "gammas_RBF = np.logspace(-6.0, -5.0, 3)\n",
    "Cs_RBF = np.logspace(3.5, 4.5, 3)\n",
    "mySVM_rbf = svm.SVC(kernel='rbf')\n",
    "grid_RBF = GridSearchCV(mySVM_rbf, param_grid={'gamma': gammas_RBF, 'C': Cs_RBF}, verbose=10, \n",
    "                            scoring='roc_auc', cv=5, n_jobs=-1, return_train_score=True)\n",
    "\n",
    "start = time()\n",
    "grid_RBF.fit(X_red, y)#, sample_weight=w)\n",
    "print(\"Elapsed time: %.0f s\" % (time() - start))\n",
    "gammas_best_RBF = grid_RBF.best_params_['gamma']\n",
    "Cs_best_RBF  = grid_RBF.best_params_['C']\n",
    "print (\"best parameter choice: gammas = %.2f (10^%.2f)\" % (gammas_best_RBF, math.log10(gammas_best_RBF)))\n",
    "print (\"best parameter choice: Cs  = %.2f (10^%.2f)\" % (Cs_best_RBF, math.log10(Cs_best_RBF)))"
   ]
  },
  {
   "cell_type": "code",
   "execution_count": 55,
   "metadata": {},
   "outputs": [
    {
     "name": "stdout",
     "output_type": "stream",
     "text": [
      "Best score = 0.609\n"
     ]
    },
    {
     "data": {
      "image/png": "[encoded data removed]",
      "text/plain": [
       "<Figure size 576x576 with 2 Axes>"
      ]
     },
     "metadata": {
      "needs_background": "light"
     },
     "output_type": "display_data"
    }
   ],
   "source": [
    "grid_plot(grid_RBF.cv_results_['mean_test_score'], gammas_RBF, Cs_RBF, \n",
    "          lx=\"gamma\", ly=\"C\", title=\"RBFBoost - Score\", log=False, logx=True)\n",
    "print(\"Best score = %.3f\" % (grid_RBF.best_score_))"
   ]
  },
  {
   "cell_type": "code",
   "execution_count": 56,
   "metadata": {},
   "outputs": [
    {
     "name": "stdout",
     "output_type": "stream",
     "text": [
      "Score at best params: 0.609\n",
      "Overfit at best params = 0.16\n"
     ]
    },
    {
     "data": {
      "image/png": "[encoded data removed]",
      "text/plain": [
       "<Figure size 576x576 with 2 Axes>"
      ]
     },
     "metadata": {
      "needs_background": "light"
     },
     "output_type": "display_data"
    }
   ],
   "source": [
    "overfit = (grid_RBF.cv_results_['mean_train_score']-grid_RBF.cv_results_['mean_test_score'])\n",
    "overf_log(grid_RBF)\n",
    "grid_plot(overfit, gammas_RBF, Cs_RBF, title=\"RBFBoost - Overfit\", lx=\"gamma\", ly=\"C\", \n",
    "          logx=True, log=False)"
   ]
  },
  {
   "cell_type": "markdown",
   "metadata": {},
   "source": [
    "# Stuff"
   ]
  },
  {
   "cell_type": "code",
   "execution_count": null,
   "metadata": {},
   "outputs": [],
   "source": [
    "#plt.hist(features8[3][target8==1], weights=weight8[target8==1], bins=50, range=(0.,120.)) #minDM\n",
    "plt.hist(features8[3][target8==0], weights=weight8[target8==0], bins=50, range=(0.,120.))"
   ]
  }
 ],
 "metadata": {
  "kernelspec": {
   "display_name": "Python 3",
   "language": "python",
   "name": "python3"
  },
  "language_info": {
   "codemirror_mode": {
    "name": "ipython",
    "version": 3
   },
   "file_extension": ".py",
   "mimetype": "text/x-python",
   "name": "python",
   "nbconvert_exporter": "python",
   "pygments_lexer": "ipython3",
   "version": "3.7.7"
  }
 },
 "nbformat": 4,
 "nbformat_minor": 2
}
